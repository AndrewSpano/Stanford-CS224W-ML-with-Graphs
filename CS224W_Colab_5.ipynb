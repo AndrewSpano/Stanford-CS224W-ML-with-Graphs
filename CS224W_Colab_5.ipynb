{
  "cells": [
    {
      "cell_type": "markdown",
      "metadata": {
        "id": "XuXWJLEm2UWS"
      },
      "source": [
        "# **CS224W - Colab 5**"
      ]
    },
    {
      "cell_type": "markdown",
      "metadata": {
        "id": "8gzsP50bF6Gb"
      },
      "source": [
        "In this Colab we will experiment on scaling up GNNs using PyTorch Geometric, DeepSNAP and NetworkX. As we have **canceled** the Colab 5 assignment, this notebook will be a tutorial and you do not need to submit it on Gradescope.\n",
        "\n",
        "At first, we will use PyTorch Geometric `NeighborSampler` to scale up the training and testing on OGB `arxiv` dataset.\n",
        "\n",
        "Then, using the DeepSNAP and NetworkX, we will implement a simplified version of `NeighborSampler` and run experiments with different smapling ratios on the Cora graph.\n",
        "\n",
        "At last, we will partition the Cora graph into clusters by using different partition algorithms and then train the models in the way of vanilla Cluster-GCN.\n",
        "\n",
        "**Note**: Make sure to **sequentially run all the cells in each section**, so that the intermediate variables / packages will carry over to the next cell"
      ]
    },
    {
      "cell_type": "markdown",
      "metadata": {
        "id": "MSaetj53YnT6"
      },
      "source": [
        "# Device\n",
        "You might need to use GPU for this Colab.\n",
        "\n",
        "Please click `Runtime` and then `Change runtime type`. Then set the `hardware accelerator` to **GPU**."
      ]
    },
    {
      "cell_type": "markdown",
      "metadata": {
        "id": "67gOQITlCNQi"
      },
      "source": [
        "# Installation"
      ]
    },
    {
      "cell_type": "code",
      "execution_count": 1,
      "metadata": {
        "id": "J_m9l6OYCQZP"
      },
      "outputs": [],
      "source": [
        "!pip install -q torch-scatter -f https://pytorch-geometric.com/whl/torch-1.8.0+cu101.html\n",
        "!pip install -q torch-sparse -f https://pytorch-geometric.com/whl/torch-1.8.0+cu101.html\n",
        "!pip install -q torch-geometric\n",
        "!pip install -q ogb\n",
        "!pip install -q git+https://github.com/snap-stanford/deepsnap.git"
      ]
    },
    {
      "cell_type": "code",
      "execution_count": 2,
      "metadata": {
        "colab": {
          "base_uri": "https://localhost:8080/",
          "height": 35
        },
        "id": "PRfgbfTjCRD_",
        "outputId": "d8409be3-ed15-4a4e-c7c9-102c0c783bf4"
      },
      "outputs": [
        {
          "output_type": "execute_result",
          "data": {
            "text/plain": [
              "'2.0.4'"
            ],
            "application/vnd.google.colaboratory.intrinsic+json": {
              "type": "string"
            }
          },
          "metadata": {},
          "execution_count": 2
        }
      ],
      "source": [
        "import torch_geometric\n",
        "torch_geometric.__version__"
      ]
    },
    {
      "cell_type": "markdown",
      "metadata": {
        "id": "SxkYLgxAOxz7"
      },
      "source": [
        "# 1 PyTorch Geometric Neighbor Sampling\n",
        "\n",
        "Neighbor Sampling, originally proposed in **GraphSAGE** ([Hamilton et al. (2017)](https://arxiv.org/abs/1706.02216)), is a representative method to scale up GNNs. As what we have learned in lecture, only a K-hop neighborhood nodes will be loaded into GPU for each time training. To further reduce the cost, we can sample a subset of neighborhood nodes for GNNs to aggregate."
      ]
    },
    {
      "cell_type": "markdown",
      "metadata": {
        "id": "Kho6SHUVO1ny"
      },
      "source": [
        "## Setup"
      ]
    },
    {
      "cell_type": "code",
      "execution_count": 3,
      "metadata": {
        "id": "X1WJLGKsOx_k"
      },
      "outputs": [],
      "source": [
        "import copy\n",
        "import torch\n",
        "import torch.nn.functional as F\n",
        "import torch_geometric.transforms as T\n",
        "\n",
        "from torch_geometric.nn import SAGEConv\n",
        "from torch_geometric.data import NeighborSampler\n",
        "from ogb.nodeproppred import PygNodePropPredDataset, Evaluator"
      ]
    },
    {
      "cell_type": "markdown",
      "metadata": {
        "id": "UKqZWqRbO7km"
      },
      "source": [
        "## Neighbor Sampler\n",
        "\n",
        "PyTorch Geometric has implemented the Neighbor Sampling method as the [NeighborSampler](https://pytorch-geometric.readthedocs.io/en/latest/modules/data.html#torch_geometric.data.NeighborSampler) in `torch_geometric.data`. Following is an example that uses the Neighbor Sampling method on training the OGB `arxiv` dataset.\n",
        "\n",
        "If you are interested in memory-efficient aggregations, please refer to PyG's [Memory-Efficient Aggregations](https://pytorch-geometric.readthedocs.io/en/latest/notes/sparse_tensor.html)."
      ]
    },
    {
      "cell_type": "code",
      "execution_count": 4,
      "metadata": {
        "colab": {
          "base_uri": "https://localhost:8080/"
        },
        "id": "nWlyStlRO6_u",
        "outputId": "64dded5b-4952-4187-90f1-cb476c602bff"
      },
      "outputs": [
        {
          "output_type": "stream",
          "name": "stdout",
          "text": [
            "Device: cuda\n"
          ]
        },
        {
          "output_type": "stream",
          "name": "stderr",
          "text": [
            "/usr/local/lib/python3.7/dist-packages/torch_geometric/deprecation.py:12: UserWarning: 'data.NeighborSampler' is deprecated, use 'loader.NeighborSampler' instead\n",
            "  warnings.warn(out)\n"
          ]
        }
      ],
      "source": [
        "dataset_name = 'ogbn-arxiv'\n",
        "dataset = PygNodePropPredDataset(name=dataset_name,\n",
        "                                 transform=T.ToSparseTensor())\n",
        "data = dataset[0]\n",
        "data.adj_t = data.adj_t.to_symmetric()\n",
        "device = 'cuda' if torch.cuda.is_available() else 'cpu'\n",
        "\n",
        "print('Device: {}'.format(device))\n",
        "\n",
        "data = data.to(device)\n",
        "split_idx = dataset.get_idx_split()\n",
        "train_idx = split_idx['train'].to(device)\n",
        "\n",
        "# Construct the training dataloader for training data\n",
        "# Sample 10 neighbors for each node in the first layer and 5 for the second layer\n",
        "train_loader = NeighborSampler(data.adj_t, node_idx=train_idx,\n",
        "                               sizes=[10, 5], batch_size=4096,\n",
        "                               shuffle=True, num_workers=2)\n",
        "\n",
        "# Specify size as -1 to include all neighbors\n",
        "all_loader = NeighborSampler(data.adj_t, node_idx=None, sizes=[-1],\n",
        "                                  batch_size=4096, shuffle=False,\n",
        "                                  num_workers=2)\n",
        "evaluator = Evaluator(name='ogbn-arxiv')"
      ]
    },
    {
      "cell_type": "markdown",
      "metadata": {
        "id": "VjdkIcFpRYyl"
      },
      "source": [
        "## GNN Model\n",
        "\n",
        "After creating the `NeighborSampler`, we also need to modify the model to let it support the mini-batch training.\n",
        "\n",
        "The `forward` function will take the node feature `x` and a list of three-element tuples `adjs`. Each element in `adjs` contains following elements:\n",
        "* `edge_index`: The edge index tensor between source and destination nodes, which forms a bipartite grpah.\n",
        "* `e_id`: The indices of the edges in the original graph.\n",
        "* `size`: The shape of the bipartite graph, in (*number of source nodes*, *number of destination nodes*) format."
      ]
    },
    {
      "cell_type": "code",
      "execution_count": 5,
      "metadata": {
        "id": "gRBJS_5qRWbu"
      },
      "outputs": [],
      "source": [
        "class SAGE(torch.nn.Module):\n",
        "    def __init__(self, input_dim, hidden_dim, output_dim, num_layers,\n",
        "                 dropout):\n",
        "        super(SAGE, self).__init__()\n",
        "\n",
        "        self.convs = torch.nn.ModuleList()\n",
        "        self.bns = torch.nn.ModuleList()\n",
        "\n",
        "        self.convs.append(SAGEConv(input_dim, hidden_dim))\n",
        "        self.bns.append(torch.nn.BatchNorm1d(hidden_dim))\n",
        "\n",
        "        for i in range(num_layers - 2):\n",
        "            self.convs.append(\n",
        "                SAGEConv(hidden_dim, hidden_dim))\n",
        "            self.bns.append(torch.nn.BatchNorm1d(hidden_dim))\n",
        "        self.convs.append(SAGEConv(hidden_dim, output_dim))\n",
        "\n",
        "        self.softmax = torch.nn.LogSoftmax(dim=1)\n",
        "\n",
        "        self.dropout = dropout\n",
        "\n",
        "        self.num_layers = num_layers\n",
        "\n",
        "    def reset_parameters(self):\n",
        "        for conv in self.convs:\n",
        "            conv.reset_parameters()\n",
        "        for bn in self.bns:\n",
        "            bn.reset_parameters()\n",
        "\n",
        "    def forward(self, x, adjs, mode=\"batch\"):\n",
        "        if mode == \"batch\":\n",
        "            for i, (edge_index, _, size) in enumerate(adjs):\n",
        "                # Extract target node features\n",
        "                x_target = x[:size[1]]\n",
        "\n",
        "                # Update x for next layer reuse\n",
        "                x = self.convs[i]((x, x_target), edge_index)\n",
        "                if i != self.num_layers - 1:\n",
        "                    x = self.bns[i](x)\n",
        "                    x = F.relu(x)\n",
        "                    x = F.dropout(x, p=self.dropout, training=self.training)\n",
        "        else:\n",
        "            for i, conv in enumerate(self.convs):\n",
        "                x = conv(x, adjs)\n",
        "                if i != self.num_layers - 1:\n",
        "                    x = self.bns[i](x)\n",
        "                    x = F.relu(x)\n",
        "                    x = F.dropout(x, p=self.dropout, training=self.training)\n",
        "        return self.softmax(x)\n",
        "    \n",
        "    def inference(self, x_all, all_loader):\n",
        "        # This function will be called in test\n",
        "        for i in range(self.num_layers):\n",
        "            xs = []\n",
        "            for batch_size, n_id, adj in all_loader:\n",
        "                edge_index, _, size = adj.to(device)\n",
        "                x = x_all[n_id].to(device)\n",
        "                x_target = x[:size[1]]\n",
        "                x = self.convs[i]((x, x_target), edge_index)\n",
        "                if i != self.num_layers - 1:\n",
        "                    x = self.bns[i](x)\n",
        "                    x = F.relu(x)\n",
        "                    x = F.dropout(x, p=self.dropout, training=self.training)\n",
        "                \n",
        "                # Append the node embeddings to xs\n",
        "                xs.append(x.cpu())\n",
        "            \n",
        "            # Concat all embeddings into one tensor\n",
        "            x_all = torch.cat(xs, dim=0)\n",
        "\n",
        "        return x_all"
      ]
    },
    {
      "cell_type": "markdown",
      "metadata": {
        "id": "7cfm7K3wRqqY"
      },
      "source": [
        "## Training and Testing\n",
        "\n",
        "Now lets implement the training and testing functions.\n",
        "\n",
        "In both training and testing, we need to sample batch from the dataloader.\n",
        "\n",
        "Each batch in the `NeighborSampler` dataloader holds three elements:\n",
        "* `batch_size`: The batch size specified in the dataloader.\n",
        "* `n_id`: All nodes (in index format) used in the adjacency matrices.\n",
        "* `adjs`: The three-element tuples."
      ]
    },
    {
      "cell_type": "code",
      "execution_count": 6,
      "metadata": {
        "id": "-JN0-_QCRn8N"
      },
      "outputs": [],
      "source": [
        "def train(model, data, train_loader, train_idx, optimizer, loss_fn, mode=\"batch\"):\n",
        "    model.train()\n",
        "\n",
        "    total_loss = 0\n",
        "    if mode == \"batch\":\n",
        "        for batch_size, n_id, adjs in train_loader:\n",
        "            # Move all adj sparse tensors to GPU\n",
        "            adjs = [adj.to(device) for adj in adjs]\n",
        "            optimizer.zero_grad()\n",
        "\n",
        "            # Index on the node features\n",
        "            out = model(data.x[n_id], adjs)\n",
        "            train_label = data.y[n_id[:batch_size]].squeeze(-1)\n",
        "            loss = loss_fn(out, train_label)\n",
        "            loss.backward()\n",
        "            optimizer.step()\n",
        "            total_loss += loss.item()\n",
        "    else:\n",
        "        optimizer.zero_grad()\n",
        "        out = model(data.x, data.adj_t, mode=mode)[train_idx]\n",
        "        train_label = data.y.squeeze(1)[train_idx]\n",
        "        loss = loss_fn(out, train_label)\n",
        "        loss.backward()\n",
        "        optimizer.step()\n",
        "        total_loss = loss.item()\n",
        "\n",
        "    return total_loss\n",
        "\n",
        "@torch.no_grad()\n",
        "def test(model, data, all_loader, split_idx, evaluator, mode=\"batch\"):\n",
        "    model.eval()\n",
        "\n",
        "    if mode == \"batch\":\n",
        "        out = model.inference(data.x, all_loader)\n",
        "    else:\n",
        "        out = model(data.x, data.adj_t, mode=\"all\")\n",
        "\n",
        "    y_true = data.y.cpu()\n",
        "    y_pred = out.argmax(dim=-1, keepdim=True)\n",
        "\n",
        "    train_acc = evaluator.eval({\n",
        "        'y_true': y_true[split_idx['train']],\n",
        "        'y_pred': y_pred[split_idx['train']],\n",
        "    })['acc']\n",
        "    valid_acc = evaluator.eval({\n",
        "        'y_true': y_true[split_idx['valid']],\n",
        "        'y_pred': y_pred[split_idx['valid']],\n",
        "    })['acc']\n",
        "    test_acc = evaluator.eval({\n",
        "        'y_true': y_true[split_idx['test']],\n",
        "        'y_pred': y_pred[split_idx['test']],\n",
        "    })['acc']\n",
        "\n",
        "    return train_acc, valid_acc, test_acc"
      ]
    },
    {
      "cell_type": "markdown",
      "metadata": {
        "id": "AiehZ8OiR2q9"
      },
      "source": [
        "## Mini-batch Training"
      ]
    },
    {
      "cell_type": "code",
      "execution_count": 7,
      "metadata": {
        "id": "zFaI2eCARy0v",
        "colab": {
          "base_uri": "https://localhost:8080/"
        },
        "outputId": "dc476b21-3dca-49a3-a5aa-27b486644f91"
      },
      "outputs": [
        {
          "output_type": "stream",
          "name": "stdout",
          "text": [
            "Epoch: 01, Loss: 40.4106, Train: 62.81%, Valid: 63.95% Test: 63.55%\n",
            "Epoch: 02, Loss: 28.6407, Train: 67.42%, Valid: 67.51% Test: 67.01%\n",
            "Epoch: 03, Loss: 26.6660, Train: 69.14%, Valid: 68.73% Test: 67.89%\n",
            "Epoch: 04, Loss: 25.6303, Train: 69.99%, Valid: 69.29% Test: 68.55%\n",
            "Epoch: 05, Loss: 24.9138, Train: 70.71%, Valid: 69.04% Test: 67.49%\n",
            "Epoch: 06, Loss: 24.5037, Train: 70.99%, Valid: 69.58% Test: 68.34%\n",
            "Epoch: 07, Loss: 24.2329, Train: 71.23%, Valid: 70.21% Test: 69.92%\n",
            "Epoch: 08, Loss: 23.9834, Train: 71.77%, Valid: 70.16% Test: 69.29%\n",
            "Epoch: 09, Loss: 23.6174, Train: 71.96%, Valid: 69.18% Test: 67.07%\n",
            "Epoch: 10, Loss: 23.5219, Train: 72.14%, Valid: 69.94% Test: 69.66%\n",
            "Epoch: 11, Loss: 23.4016, Train: 72.44%, Valid: 69.36% Test: 67.97%\n",
            "Epoch: 12, Loss: 23.1631, Train: 72.48%, Valid: 70.49% Test: 69.94%\n",
            "Epoch: 13, Loss: 22.9472, Train: 72.97%, Valid: 70.44% Test: 69.45%\n",
            "Epoch: 14, Loss: 23.0102, Train: 73.06%, Valid: 69.79% Test: 68.29%\n",
            "Epoch: 15, Loss: 22.7917, Train: 73.28%, Valid: 70.46% Test: 69.72%\n",
            "Epoch: 16, Loss: 22.6442, Train: 73.44%, Valid: 70.47% Test: 70.01%\n",
            "Epoch: 17, Loss: 22.5529, Train: 73.68%, Valid: 70.48% Test: 69.31%\n",
            "Epoch: 18, Loss: 22.5606, Train: 73.76%, Valid: 70.94% Test: 70.27%\n",
            "Epoch: 19, Loss: 22.3264, Train: 74.12%, Valid: 70.70% Test: 69.66%\n",
            "Epoch: 20, Loss: 22.3014, Train: 73.99%, Valid: 70.67% Test: 70.09%\n",
            "Epoch: 21, Loss: 22.1858, Train: 74.02%, Valid: 70.56% Test: 69.56%\n",
            "Epoch: 22, Loss: 22.1650, Train: 74.10%, Valid: 70.66% Test: 69.50%\n",
            "Epoch: 23, Loss: 21.9695, Train: 74.53%, Valid: 70.56% Test: 69.26%\n",
            "Epoch: 24, Loss: 21.9209, Train: 74.30%, Valid: 70.39% Test: 69.06%\n",
            "Epoch: 25, Loss: 22.0599, Train: 74.44%, Valid: 70.09% Test: 68.09%\n",
            "Epoch: 26, Loss: 21.8873, Train: 74.42%, Valid: 70.30% Test: 68.82%\n",
            "Epoch: 27, Loss: 21.6834, Train: 74.78%, Valid: 70.84% Test: 69.68%\n",
            "Epoch: 28, Loss: 21.7917, Train: 74.78%, Valid: 70.51% Test: 69.07%\n",
            "Epoch: 29, Loss: 21.7244, Train: 74.88%, Valid: 70.82% Test: 69.38%\n",
            "Epoch: 30, Loss: 21.6257, Train: 75.09%, Valid: 70.87% Test: 70.06%\n",
            "Epoch: 31, Loss: 21.6147, Train: 75.11%, Valid: 70.74% Test: 69.51%\n",
            "Epoch: 32, Loss: 21.5091, Train: 75.14%, Valid: 70.91% Test: 69.78%\n",
            "Epoch: 33, Loss: 21.3751, Train: 74.99%, Valid: 70.87% Test: 69.58%\n",
            "Epoch: 34, Loss: 21.3993, Train: 74.98%, Valid: 70.50% Test: 68.76%\n",
            "Epoch: 35, Loss: 21.4488, Train: 75.14%, Valid: 69.91% Test: 67.82%\n",
            "Epoch: 36, Loss: 21.3961, Train: 75.37%, Valid: 70.43% Test: 68.71%\n",
            "Epoch: 37, Loss: 21.3226, Train: 75.57%, Valid: 70.48% Test: 69.07%\n",
            "Epoch: 38, Loss: 21.2963, Train: 75.52%, Valid: 70.17% Test: 68.45%\n",
            "Epoch: 39, Loss: 21.3384, Train: 75.49%, Valid: 70.87% Test: 69.85%\n",
            "Epoch: 40, Loss: 21.2850, Train: 75.63%, Valid: 70.53% Test: 69.18%\n",
            "Epoch: 41, Loss: 21.2885, Train: 75.39%, Valid: 70.89% Test: 70.02%\n",
            "Epoch: 42, Loss: 21.1324, Train: 75.55%, Valid: 70.44% Test: 69.14%\n",
            "Epoch: 43, Loss: 21.1952, Train: 76.01%, Valid: 71.09% Test: 69.98%\n",
            "Epoch: 44, Loss: 21.1296, Train: 75.42%, Valid: 69.37% Test: 67.53%\n",
            "Epoch: 45, Loss: 21.0208, Train: 75.74%, Valid: 70.67% Test: 69.54%\n",
            "Epoch: 46, Loss: 21.0589, Train: 75.78%, Valid: 70.79% Test: 69.84%\n",
            "Epoch: 47, Loss: 20.9526, Train: 75.89%, Valid: 70.52% Test: 68.59%\n",
            "Epoch: 48, Loss: 20.9792, Train: 76.01%, Valid: 70.72% Test: 69.45%\n",
            "Epoch: 49, Loss: 20.9735, Train: 75.91%, Valid: 70.72% Test: 69.03%\n",
            "Epoch: 50, Loss: 20.9495, Train: 76.03%, Valid: 70.69% Test: 69.29%\n",
            "Epoch: 51, Loss: 20.8580, Train: 76.01%, Valid: 71.02% Test: 69.68%\n",
            "Epoch: 52, Loss: 20.8708, Train: 76.00%, Valid: 70.92% Test: 69.87%\n",
            "Epoch: 53, Loss: 20.8413, Train: 76.27%, Valid: 70.93% Test: 69.53%\n",
            "Epoch: 54, Loss: 20.8145, Train: 76.17%, Valid: 70.08% Test: 68.05%\n",
            "Epoch: 55, Loss: 20.8147, Train: 76.05%, Valid: 71.06% Test: 70.37%\n",
            "Epoch: 56, Loss: 20.9122, Train: 76.24%, Valid: 71.08% Test: 70.07%\n",
            "Epoch: 57, Loss: 20.9032, Train: 76.29%, Valid: 71.12% Test: 70.22%\n",
            "Epoch: 58, Loss: 20.7368, Train: 76.52%, Valid: 70.57% Test: 68.89%\n",
            "Epoch: 59, Loss: 20.7918, Train: 76.31%, Valid: 70.87% Test: 69.95%\n",
            "Epoch: 60, Loss: 20.7001, Train: 76.25%, Valid: 70.95% Test: 69.27%\n",
            "Epoch: 61, Loss: 20.7096, Train: 76.45%, Valid: 70.89% Test: 69.90%\n",
            "Epoch: 62, Loss: 20.6686, Train: 76.47%, Valid: 70.96% Test: 70.13%\n",
            "Epoch: 63, Loss: 20.6192, Train: 76.34%, Valid: 70.30% Test: 68.51%\n",
            "Epoch: 64, Loss: 20.5413, Train: 76.45%, Valid: 70.90% Test: 69.94%\n",
            "Epoch: 65, Loss: 20.7420, Train: 76.63%, Valid: 70.64% Test: 69.42%\n",
            "Epoch: 66, Loss: 20.6520, Train: 76.78%, Valid: 70.94% Test: 69.82%\n",
            "Epoch: 67, Loss: 20.5603, Train: 76.53%, Valid: 70.66% Test: 69.13%\n",
            "Epoch: 68, Loss: 20.6379, Train: 76.52%, Valid: 71.00% Test: 69.44%\n",
            "Epoch: 69, Loss: 20.6227, Train: 76.49%, Valid: 70.57% Test: 69.22%\n",
            "Epoch: 70, Loss: 20.5798, Train: 76.75%, Valid: 70.84% Test: 69.96%\n",
            "Epoch: 71, Loss: 20.6557, Train: 76.63%, Valid: 70.32% Test: 68.42%\n",
            "Epoch: 72, Loss: 20.5961, Train: 76.82%, Valid: 70.96% Test: 70.27%\n",
            "Epoch: 73, Loss: 20.5800, Train: 76.64%, Valid: 70.82% Test: 69.40%\n",
            "Epoch: 74, Loss: 20.3920, Train: 76.73%, Valid: 70.54% Test: 69.26%\n",
            "Epoch: 75, Loss: 20.4306, Train: 76.95%, Valid: 71.19% Test: 69.83%\n",
            "Epoch: 76, Loss: 20.5140, Train: 76.75%, Valid: 70.66% Test: 69.40%\n",
            "Epoch: 77, Loss: 20.5267, Train: 76.75%, Valid: 71.14% Test: 70.15%\n",
            "Epoch: 78, Loss: 20.3382, Train: 77.02%, Valid: 70.69% Test: 69.70%\n",
            "Epoch: 79, Loss: 20.4624, Train: 76.96%, Valid: 71.02% Test: 69.78%\n",
            "Epoch: 80, Loss: 20.4776, Train: 77.03%, Valid: 71.14% Test: 70.15%\n",
            "Epoch: 81, Loss: 20.5429, Train: 77.08%, Valid: 70.97% Test: 70.41%\n",
            "Epoch: 82, Loss: 20.3174, Train: 76.91%, Valid: 70.81% Test: 69.73%\n",
            "Epoch: 83, Loss: 20.2969, Train: 76.94%, Valid: 70.77% Test: 69.60%\n",
            "Epoch: 84, Loss: 20.3159, Train: 76.97%, Valid: 70.99% Test: 70.06%\n",
            "Epoch: 85, Loss: 20.3311, Train: 76.97%, Valid: 70.95% Test: 69.99%\n",
            "Epoch: 86, Loss: 20.2909, Train: 77.06%, Valid: 71.07% Test: 69.82%\n",
            "Epoch: 87, Loss: 20.3032, Train: 77.04%, Valid: 70.34% Test: 68.54%\n",
            "Epoch: 88, Loss: 20.2745, Train: 77.07%, Valid: 70.98% Test: 70.22%\n",
            "Epoch: 89, Loss: 20.3087, Train: 77.18%, Valid: 71.17% Test: 70.39%\n",
            "Epoch: 90, Loss: 20.3073, Train: 77.06%, Valid: 70.90% Test: 69.80%\n",
            "Epoch: 91, Loss: 20.2871, Train: 77.29%, Valid: 71.23% Test: 70.56%\n",
            "Epoch: 92, Loss: 20.2542, Train: 77.35%, Valid: 70.97% Test: 69.72%\n",
            "Epoch: 93, Loss: 20.1974, Train: 77.25%, Valid: 71.10% Test: 70.45%\n",
            "Epoch: 94, Loss: 20.2835, Train: 77.27%, Valid: 71.02% Test: 69.77%\n",
            "Epoch: 95, Loss: 20.1831, Train: 77.26%, Valid: 70.55% Test: 69.34%\n",
            "Epoch: 96, Loss: 20.2377, Train: 77.20%, Valid: 70.80% Test: 69.72%\n",
            "Epoch: 97, Loss: 20.2219, Train: 77.04%, Valid: 70.77% Test: 69.53%\n",
            "Epoch: 98, Loss: 20.1598, Train: 77.31%, Valid: 70.67% Test: 69.10%\n",
            "Epoch: 99, Loss: 20.1638, Train: 77.31%, Valid: 71.02% Test: 70.06%\n",
            "Epoch: 100, Loss: 19.9536, Train: 77.44%, Valid: 70.82% Test: 69.82%\n",
            "Best model: Train: 77.29%, Valid: 71.23% Test: 70.56%\n"
          ]
        }
      ],
      "source": [
        "args = {\n",
        "    'device': device,\n",
        "    'num_layers': 2,\n",
        "    'hidden_dim': 128,\n",
        "    'dropout': 0.5,\n",
        "    'lr': 0.01,\n",
        "    'epochs': 100,\n",
        "}\n",
        "\n",
        "batch_model = SAGE(data.num_features, args['hidden_dim'],\n",
        "            dataset.num_classes, args['num_layers'],\n",
        "            args['dropout']).to(device)\n",
        "batch_model.reset_parameters()\n",
        "\n",
        "optimizer = torch.optim.Adam(batch_model.parameters(), lr=args['lr'])\n",
        "loss_fn = F.nll_loss\n",
        "\n",
        "best_batch_model = None\n",
        "best_valid_acc = 0\n",
        "\n",
        "batch_results = []\n",
        "\n",
        "for epoch in range(1, 1 + args[\"epochs\"]):\n",
        "    loss = train(batch_model, data, train_loader, train_idx, optimizer, loss_fn, mode=\"batch\")\n",
        "    result = test(batch_model, data, all_loader, split_idx, evaluator, mode=\"batch\")\n",
        "    batch_results.append(result)\n",
        "    train_acc, valid_acc, test_acc = result\n",
        "    if valid_acc > best_valid_acc:\n",
        "        best_valid_acc = valid_acc\n",
        "        best_batch_model = copy.deepcopy(batch_model)\n",
        "    print(f'Epoch: {epoch:02d}, '\n",
        "          f'Loss: {loss:.4f}, '\n",
        "          f'Train: {100 * train_acc:.2f}%, '\n",
        "          f'Valid: {100 * valid_acc:.2f}% '\n",
        "          f'Test: {100 * test_acc:.2f}%')\n",
        "best_result = test(best_batch_model, data, all_loader, split_idx, evaluator, mode=\"batch\")\n",
        "train_acc, valid_acc, test_acc = best_result\n",
        "print(f'Best model: '\n",
        "      f'Train: {100 * train_acc:.2f}%, '\n",
        "      f'Valid: {100 * valid_acc:.2f}% '\n",
        "      f'Test: {100 * test_acc:.2f}%')"
      ]
    },
    {
      "cell_type": "markdown",
      "metadata": {
        "id": "-OyqW-1pSMLW"
      },
      "source": [
        "## Full-batch Training"
      ]
    },
    {
      "cell_type": "code",
      "execution_count": 8,
      "metadata": {
        "id": "mU5eAviTSFMO",
        "colab": {
          "base_uri": "https://localhost:8080/"
        },
        "outputId": "63ce7eba-5f22-4878-ded0-5ce28f91c51b"
      },
      "outputs": [
        {
          "output_type": "stream",
          "name": "stdout",
          "text": [
            "Epoch: 01, Loss: 3.9309, Train: 20.46%, Valid: 11.87% Test: 10.24%\n",
            "Epoch: 02, Loss: 2.5975, Train: 32.19%, Valid: 38.03% Test: 40.45%\n",
            "Epoch: 03, Loss: 2.2114, Train: 35.24%, Valid: 41.53% Test: 44.06%\n",
            "Epoch: 04, Loss: 2.0342, Train: 36.99%, Valid: 43.38% Test: 46.10%\n",
            "Epoch: 05, Loss: 1.8995, Train: 40.10%, Valid: 45.99% Test: 49.05%\n",
            "Epoch: 06, Loss: 1.7957, Train: 43.23%, Valid: 48.44% Test: 51.43%\n",
            "Epoch: 07, Loss: 1.7145, Train: 46.64%, Valid: 51.07% Test: 54.00%\n",
            "Epoch: 08, Loss: 1.6451, Train: 49.66%, Valid: 53.99% Test: 56.35%\n",
            "Epoch: 09, Loss: 1.5837, Train: 52.09%, Valid: 56.28% Test: 58.30%\n",
            "Epoch: 10, Loss: 1.5299, Train: 54.10%, Valid: 58.22% Test: 59.88%\n",
            "Epoch: 11, Loss: 1.4896, Train: 55.69%, Valid: 59.64% Test: 60.85%\n",
            "Epoch: 12, Loss: 1.4586, Train: 56.95%, Valid: 60.83% Test: 61.69%\n",
            "Epoch: 13, Loss: 1.4298, Train: 58.29%, Valid: 61.66% Test: 62.20%\n",
            "Epoch: 14, Loss: 1.3998, Train: 59.54%, Valid: 62.42% Test: 62.78%\n",
            "Epoch: 15, Loss: 1.3794, Train: 60.65%, Valid: 63.07% Test: 63.26%\n",
            "Epoch: 16, Loss: 1.3627, Train: 61.43%, Valid: 63.62% Test: 63.82%\n",
            "Epoch: 17, Loss: 1.3389, Train: 62.03%, Valid: 63.93% Test: 64.23%\n",
            "Epoch: 18, Loss: 1.3247, Train: 62.34%, Valid: 64.12% Test: 64.48%\n",
            "Epoch: 19, Loss: 1.3152, Train: 62.50%, Valid: 64.18% Test: 64.63%\n",
            "Epoch: 20, Loss: 1.3019, Train: 62.72%, Valid: 64.43% Test: 64.84%\n",
            "Epoch: 21, Loss: 1.2842, Train: 63.10%, Valid: 64.60% Test: 65.12%\n",
            "Epoch: 22, Loss: 1.2738, Train: 63.54%, Valid: 64.94% Test: 65.35%\n",
            "Epoch: 23, Loss: 1.2622, Train: 63.92%, Valid: 65.26% Test: 65.54%\n",
            "Epoch: 24, Loss: 1.2515, Train: 64.25%, Valid: 65.36% Test: 65.53%\n",
            "Epoch: 25, Loss: 1.2386, Train: 64.61%, Valid: 65.57% Test: 65.65%\n",
            "Epoch: 26, Loss: 1.2260, Train: 64.96%, Valid: 65.81% Test: 65.77%\n",
            "Epoch: 27, Loss: 1.2183, Train: 65.26%, Valid: 65.98% Test: 66.04%\n",
            "Epoch: 28, Loss: 1.2122, Train: 65.52%, Valid: 66.28% Test: 66.27%\n",
            "Epoch: 29, Loss: 1.2022, Train: 65.82%, Valid: 66.55% Test: 66.53%\n",
            "Epoch: 30, Loss: 1.1972, Train: 66.11%, Valid: 66.81% Test: 66.72%\n",
            "Epoch: 31, Loss: 1.1878, Train: 66.35%, Valid: 66.97% Test: 66.80%\n",
            "Epoch: 32, Loss: 1.1830, Train: 66.58%, Valid: 67.22% Test: 66.87%\n",
            "Epoch: 33, Loss: 1.1732, Train: 66.74%, Valid: 67.22% Test: 66.91%\n",
            "Epoch: 34, Loss: 1.1669, Train: 66.93%, Valid: 67.30% Test: 66.99%\n",
            "Epoch: 35, Loss: 1.1648, Train: 67.07%, Valid: 67.45% Test: 67.10%\n",
            "Epoch: 36, Loss: 1.1597, Train: 67.22%, Valid: 67.53% Test: 67.20%\n",
            "Epoch: 37, Loss: 1.1538, Train: 67.39%, Valid: 67.58% Test: 67.34%\n",
            "Epoch: 38, Loss: 1.1454, Train: 67.59%, Valid: 67.75% Test: 67.46%\n",
            "Epoch: 39, Loss: 1.1390, Train: 67.77%, Valid: 67.85% Test: 67.58%\n",
            "Epoch: 40, Loss: 1.1332, Train: 67.94%, Valid: 67.94% Test: 67.56%\n",
            "Epoch: 41, Loss: 1.1296, Train: 68.09%, Valid: 68.07% Test: 67.65%\n",
            "Epoch: 42, Loss: 1.1259, Train: 68.23%, Valid: 68.22% Test: 67.72%\n",
            "Epoch: 43, Loss: 1.1209, Train: 68.36%, Valid: 68.40% Test: 67.76%\n",
            "Epoch: 44, Loss: 1.1139, Train: 68.48%, Valid: 68.51% Test: 67.85%\n",
            "Epoch: 45, Loss: 1.1110, Train: 68.64%, Valid: 68.62% Test: 67.93%\n",
            "Epoch: 46, Loss: 1.1082, Train: 68.73%, Valid: 68.72% Test: 67.95%\n",
            "Epoch: 47, Loss: 1.1048, Train: 68.85%, Valid: 68.73% Test: 67.92%\n",
            "Epoch: 48, Loss: 1.1021, Train: 69.01%, Valid: 68.69% Test: 67.90%\n",
            "Epoch: 49, Loss: 1.0997, Train: 69.14%, Valid: 68.74% Test: 67.82%\n",
            "Epoch: 50, Loss: 1.0948, Train: 69.22%, Valid: 68.75% Test: 67.75%\n",
            "Epoch: 51, Loss: 1.0895, Train: 69.28%, Valid: 68.86% Test: 67.81%\n",
            "Epoch: 52, Loss: 1.0855, Train: 69.38%, Valid: 68.84% Test: 67.89%\n",
            "Epoch: 53, Loss: 1.0853, Train: 69.44%, Valid: 68.84% Test: 67.95%\n",
            "Epoch: 54, Loss: 1.0809, Train: 69.51%, Valid: 68.97% Test: 68.01%\n",
            "Epoch: 55, Loss: 1.0809, Train: 69.66%, Valid: 69.09% Test: 68.13%\n",
            "Epoch: 56, Loss: 1.0753, Train: 69.78%, Valid: 69.17% Test: 68.15%\n",
            "Epoch: 57, Loss: 1.0700, Train: 69.92%, Valid: 69.19% Test: 68.29%\n",
            "Epoch: 58, Loss: 1.0712, Train: 70.05%, Valid: 69.26% Test: 68.31%\n",
            "Epoch: 59, Loss: 1.0659, Train: 70.16%, Valid: 69.31% Test: 68.35%\n",
            "Epoch: 60, Loss: 1.0656, Train: 70.24%, Valid: 69.31% Test: 68.39%\n",
            "Epoch: 61, Loss: 1.0591, Train: 70.30%, Valid: 69.39% Test: 68.38%\n",
            "Epoch: 62, Loss: 1.0553, Train: 70.38%, Valid: 69.42% Test: 68.45%\n",
            "Epoch: 63, Loss: 1.0541, Train: 70.47%, Valid: 69.45% Test: 68.47%\n",
            "Epoch: 64, Loss: 1.0526, Train: 70.55%, Valid: 69.47% Test: 68.34%\n",
            "Epoch: 65, Loss: 1.0514, Train: 70.55%, Valid: 69.46% Test: 68.30%\n",
            "Epoch: 66, Loss: 1.0487, Train: 70.55%, Valid: 69.49% Test: 68.34%\n",
            "Epoch: 67, Loss: 1.0465, Train: 70.65%, Valid: 69.58% Test: 68.37%\n",
            "Epoch: 68, Loss: 1.0442, Train: 70.75%, Valid: 69.56% Test: 68.51%\n",
            "Epoch: 69, Loss: 1.0439, Train: 70.84%, Valid: 69.67% Test: 68.54%\n",
            "Epoch: 70, Loss: 1.0386, Train: 70.92%, Valid: 69.74% Test: 68.57%\n",
            "Epoch: 71, Loss: 1.0370, Train: 70.95%, Valid: 69.73% Test: 68.57%\n",
            "Epoch: 72, Loss: 1.0374, Train: 70.93%, Valid: 69.73% Test: 68.62%\n",
            "Epoch: 73, Loss: 1.0276, Train: 70.97%, Valid: 69.80% Test: 68.71%\n",
            "Epoch: 74, Loss: 1.0308, Train: 71.03%, Valid: 69.95% Test: 68.92%\n",
            "Epoch: 75, Loss: 1.0278, Train: 71.12%, Valid: 70.07% Test: 68.96%\n",
            "Epoch: 76, Loss: 1.0274, Train: 71.16%, Valid: 70.10% Test: 68.92%\n",
            "Epoch: 77, Loss: 1.0231, Train: 71.14%, Valid: 69.98% Test: 68.72%\n",
            "Epoch: 78, Loss: 1.0209, Train: 71.15%, Valid: 69.85% Test: 68.57%\n",
            "Epoch: 79, Loss: 1.0187, Train: 71.18%, Valid: 69.67% Test: 68.31%\n",
            "Epoch: 80, Loss: 1.0185, Train: 71.21%, Valid: 69.54% Test: 68.11%\n",
            "Epoch: 81, Loss: 1.0124, Train: 71.31%, Valid: 69.60% Test: 68.15%\n",
            "Epoch: 82, Loss: 1.0131, Train: 71.37%, Valid: 69.69% Test: 68.32%\n",
            "Epoch: 83, Loss: 1.0131, Train: 71.39%, Valid: 69.74% Test: 68.30%\n",
            "Epoch: 84, Loss: 1.0098, Train: 71.36%, Valid: 69.73% Test: 68.21%\n",
            "Epoch: 85, Loss: 1.0084, Train: 71.32%, Valid: 69.63% Test: 67.97%\n",
            "Epoch: 86, Loss: 1.0090, Train: 71.36%, Valid: 69.55% Test: 67.87%\n",
            "Epoch: 87, Loss: 1.0045, Train: 71.47%, Valid: 69.59% Test: 67.99%\n",
            "Epoch: 88, Loss: 1.0055, Train: 71.54%, Valid: 69.74% Test: 68.24%\n",
            "Epoch: 89, Loss: 1.0032, Train: 71.58%, Valid: 69.86% Test: 68.48%\n",
            "Epoch: 90, Loss: 1.0025, Train: 71.61%, Valid: 69.77% Test: 68.28%\n",
            "Epoch: 91, Loss: 1.0002, Train: 71.67%, Valid: 69.64% Test: 67.99%\n",
            "Epoch: 92, Loss: 0.9975, Train: 71.71%, Valid: 69.53% Test: 67.80%\n",
            "Epoch: 93, Loss: 0.9951, Train: 71.80%, Valid: 69.63% Test: 67.84%\n",
            "Epoch: 94, Loss: 0.9933, Train: 71.86%, Valid: 69.80% Test: 68.08%\n",
            "Epoch: 95, Loss: 0.9925, Train: 71.95%, Valid: 69.84% Test: 68.32%\n",
            "Epoch: 96, Loss: 0.9900, Train: 72.01%, Valid: 69.92% Test: 68.43%\n",
            "Epoch: 97, Loss: 0.9891, Train: 72.07%, Valid: 69.82% Test: 68.20%\n",
            "Epoch: 98, Loss: 0.9865, Train: 72.09%, Valid: 69.76% Test: 68.10%\n",
            "Epoch: 99, Loss: 0.9855, Train: 72.16%, Valid: 69.85% Test: 68.22%\n",
            "Epoch: 100, Loss: 0.9855, Train: 72.21%, Valid: 69.97% Test: 68.56%\n",
            "Best model: Train: 71.16%, Valid: 70.10% Test: 68.92%\n"
          ]
        }
      ],
      "source": [
        "# Use the same parameters for a full-batch training\n",
        "args = {\n",
        "    'device': device,\n",
        "    'num_layers': 2,\n",
        "    'hidden_dim': 128,\n",
        "    'dropout': 0.5,\n",
        "    'lr': 0.01,\n",
        "    'epochs': 100,\n",
        "}\n",
        "\n",
        "all_model = SAGE(data.num_features, args['hidden_dim'],\n",
        "            dataset.num_classes, args['num_layers'],\n",
        "            args['dropout']).to(device)\n",
        "all_model.reset_parameters()\n",
        "\n",
        "optimizer = torch.optim.Adam(all_model.parameters(), lr=args['lr'])\n",
        "loss_fn = F.nll_loss\n",
        "\n",
        "best_all_model = None\n",
        "best_valid_acc = 0\n",
        "\n",
        "all_results = []\n",
        "\n",
        "for epoch in range(1, 1 + args[\"epochs\"]):\n",
        "    loss = train(all_model, data, train_loader, train_idx, optimizer, loss_fn, mode=\"all\")\n",
        "    result = test(all_model, data, all_loader, split_idx, evaluator, mode=\"all\")\n",
        "    all_results.append(result)\n",
        "    train_acc, valid_acc, test_acc = result\n",
        "    if valid_acc > best_valid_acc:\n",
        "        best_valid_acc = valid_acc\n",
        "        best_all_model = copy.deepcopy(all_model)\n",
        "    print(f'Epoch: {epoch:02d}, '\n",
        "          f'Loss: {loss:.4f}, '\n",
        "          f'Train: {100 * train_acc:.2f}%, '\n",
        "          f'Valid: {100 * valid_acc:.2f}% '\n",
        "          f'Test: {100 * test_acc:.2f}%')\n",
        "best_result = test(best_all_model, data, all_loader, split_idx, evaluator, mode=\"all\")\n",
        "train_acc, valid_acc, test_acc = best_result\n",
        "print(f'Best model: '\n",
        "      f'Train: {100 * train_acc:.2f}%, '\n",
        "      f'Valid: {100 * valid_acc:.2f}% '\n",
        "      f'Test: {100 * test_acc:.2f}%')"
      ]
    },
    {
      "cell_type": "markdown",
      "metadata": {
        "id": "NrECcOQQSZo1"
      },
      "source": [
        "## Visualization"
      ]
    },
    {
      "cell_type": "code",
      "execution_count": 9,
      "metadata": {
        "id": "sh_qvSG1SV63",
        "colab": {
          "base_uri": "https://localhost:8080/",
          "height": 458
        },
        "outputId": "0e729140-96e6-4dce-b213-51805d25077b"
      },
      "outputs": [
        {
          "output_type": "display_data",
          "data": {
            "text/plain": [
              "<Figure size 648x504 with 1 Axes>"
            ],
            "image/png": "[encoded data removed]"
          },
          "metadata": {
            "needs_background": "light"
          }
        }
      ],
      "source": [
        "import numpy as np\n",
        "from matplotlib import pyplot as plt\n",
        "\n",
        "batch_results = np.array(batch_results)\n",
        "all_results = np.array(all_results)\n",
        "\n",
        "x = np.arange(1, 101)\n",
        "\n",
        "plt.figure(figsize=(9, 7))\n",
        "\n",
        "plt.plot(x, batch_results[:, 1], label=\"Batch Validation\")\n",
        "plt.plot(x, batch_results[:, 2], label=\"Batch Test\")\n",
        "plt.plot(x, all_results[:, 1], label=\"All Validation\")\n",
        "plt.plot(x, all_results[:, 2], label=\"All Test\")\n",
        "plt.title('Model Accuracy')\n",
        "plt.ylabel('Accuracy')\n",
        "plt.xlabel('Epoch')\n",
        "plt.legend()\n",
        "plt.show()"
      ]
    },
    {
      "cell_type": "markdown",
      "metadata": {
        "id": "WFb2OAvOSn_O"
      },
      "source": [
        "# 2 Neighbor Sampling with Different Ratios\n",
        "\n",
        "Now we will implement a simplified version of Neighbor Sampling by using DeepSNAP and NetworkX, and train models with different neighborhood sampling ratios.\n",
        "\n",
        "To make the experiments faster, we will use the Cora graph here."
      ]
    },
    {
      "cell_type": "markdown",
      "metadata": {
        "id": "P9U0F7bnSz9u"
      },
      "source": [
        "## Setup"
      ]
    },
    {
      "cell_type": "code",
      "execution_count": 10,
      "metadata": {
        "id": "PUF4on-fSxcq"
      },
      "outputs": [],
      "source": [
        "import copy\n",
        "import torch\n",
        "import random\n",
        "import numpy as np\n",
        "import networkx as nx\n",
        "import torch.nn as nn\n",
        "import torch.nn.functional as F\n",
        "\n",
        "from torch_geometric.nn import SAGEConv\n",
        "from torch.utils.data import DataLoader\n",
        "from torch_geometric.datasets import Planetoid\n",
        "from torch.nn import Sequential, Linear, ReLU\n",
        "from deepsnap.dataset import GraphDataset\n",
        "from deepsnap.graph import Graph\n",
        "\n",
        "pyg_dataset = Planetoid('./tmp', \"Cora\")"
      ]
    },
    {
      "cell_type": "markdown",
      "metadata": {
        "id": "qw6k-KdFTEYw"
      },
      "source": [
        "## GNN Model"
      ]
    },
    {
      "cell_type": "code",
      "execution_count": 11,
      "metadata": {
        "id": "PvUlNi2TS09i"
      },
      "outputs": [],
      "source": [
        "class GNN(torch.nn.Module):\n",
        "    def __init__(self, input_dim, hidden_dim, output_dim, args):\n",
        "        super(GNN, self).__init__()\n",
        "        self.dropout = args['dropout']\n",
        "        self.num_layers = args['num_layers']\n",
        "\n",
        "        self.convs = nn.ModuleList()\n",
        "        self.bns = nn.ModuleList()\n",
        "\n",
        "        self.convs.append(SAGEConv(input_dim, hidden_dim))\n",
        "        self.bns.append(nn.BatchNorm1d(hidden_dim))\n",
        "\n",
        "        for l in range(self.num_layers - 2):\n",
        "            self.convs.append(SAGEConv(hidden_dim, hidden_dim))\n",
        "            self.bns.append(nn.BatchNorm1d(hidden_dim))\n",
        "        self.convs.append(SAGEConv(hidden_dim, hidden_dim))\n",
        "\n",
        "        self.post_mp = nn.Linear(hidden_dim, output_dim)\n",
        "\n",
        "    def forward(self, data, mode=\"batch\"):\n",
        "        if mode == \"batch\":\n",
        "            edge_indices, x = data\n",
        "            for i in range(len(self.convs) - 1):\n",
        "                edge_index = edge_indices[i]\n",
        "                x = self.convs[i](x, edge_index)\n",
        "                x = self.bns[i](x)\n",
        "                x = F.relu(x)\n",
        "                x = F.dropout(x, p=self.dropout, training=self.training)\n",
        "            x = self.convs[-1](x, edge_indices[len(self.convs) - 1])\n",
        "        else:\n",
        "            x, edge_index = data.node_feature, data.edge_index\n",
        "            for i in range(len(self.convs) - 1):\n",
        "                x = self.convs[i](x, edge_index)\n",
        "                x = self.bns[i](x)\n",
        "                x = F.relu(x)\n",
        "                x = F.dropout(x, p=self.dropout, training=self.training)\n",
        "            x = self.convs[-1](x, edge_index)\n",
        "        x = self.post_mp(x)\n",
        "        x = F.log_softmax(x, dim=1)\n",
        "        return x"
      ]
    },
    {
      "cell_type": "markdown",
      "metadata": {
        "id": "Ulp1A3evcJ-I"
      },
      "source": [
        "## Neighbor Sampling\n",
        "\n",
        "Here we implement functions that will sample neighbors by using DeepSNAP and NetworkX.\n",
        "\n",
        "Notice that node classification task on Cora is a semi-supervised classification task, here we keep all the labeled training nodes (140 nodes) by setting the last ratio to 1."
      ]
    },
    {
      "cell_type": "code",
      "execution_count": 12,
      "metadata": {
        "id": "LI4qHkE4cQOh"
      },
      "outputs": [],
      "source": [
        "def sample_neighbors(nodes, G, ratio, all_nodes):\n",
        "    # This fuction takes a set of nodes, a NetworkX graph G and neighbor sampling ratio.\n",
        "    # It will return sampled neighbors (unioned with input nodes) and edges between \n",
        "    neighbors = set()\n",
        "    edges = []\n",
        "    for node in nodes:\n",
        "        neighbors_list = list(nx.neighbors(G, node))\n",
        "\n",
        "        # We only sample the (ratio * number of neighbors) neighbors\n",
        "        num = int(len(neighbors_list) * ratio)\n",
        "        if num > 0:\n",
        "            # Random shuffle the neighbors\n",
        "            random.shuffle(neighbors_list)\n",
        "            neighbors_list = neighbors_list[:num]\n",
        "            for neighbor in neighbors_list:\n",
        "                # Add neighbors\n",
        "                neighbors.add(neighbor)\n",
        "                edges.append((neighbor, node))\n",
        "    return neighbors, neighbors.union(all_nodes), edges\n",
        "\n",
        "def nodes_to_tensor(nodes):\n",
        "    # This function transform a set of nodes to node index tensor\n",
        "    node_label_index = torch.tensor(list(nodes), dtype=torch.long)\n",
        "    return node_label_index\n",
        "\n",
        "def edges_to_tensor(edges):\n",
        "    # This function transform a set of edges to edge index tensor\n",
        "    edge_index = torch.tensor(list(edges), dtype=torch.long)\n",
        "    edge_index = torch.cat([edge_index, torch.flip(edge_index, [1])], dim=0)\n",
        "    edge_index = edge_index.permute(1, 0)\n",
        "    return edge_index\n",
        "\n",
        "def relable(nodes, labeled_nodes, edges_list):\n",
        "    # Relable the nodes, labeled_nodes and edges_list\n",
        "    relabled_edges_list = []\n",
        "    sorted_nodes = sorted(nodes)\n",
        "    node_mapping = {node : i for i, node in enumerate(sorted_nodes)}\n",
        "    for orig_edges in edges_list:\n",
        "        relabeled_edges = []\n",
        "        for edge in orig_edges:\n",
        "            relabeled_edges.append((node_mapping[edge[0]], node_mapping[edge[1]]))\n",
        "        relabled_edges_list.append(relabeled_edges)\n",
        "    relabeled_labeled_nodes = [node_mapping[node] for node in labeled_nodes]\n",
        "    relabeled_nodes = [node_mapping[node] for node in nodes]\n",
        "    return relabled_edges_list, relabeled_nodes, relabeled_labeled_nodes\n",
        "\n",
        "def neighbor_sampling(graph, K=2, ratios=(0.1, 0.1, 0.1)):\n",
        "    # This function takes a DeepSNAP graph, K the number of GNN layers, and neighbor \n",
        "    # sampling ratios for each layer. This function returns relabeled node feature, \n",
        "    # edge indices and node_label_index\n",
        "\n",
        "    assert K + 1 == len(ratios)\n",
        "\n",
        "    labeled_nodes = graph.node_label_index.tolist()\n",
        "    random.shuffle(labeled_nodes)\n",
        "    num = int(len(labeled_nodes) * ratios[-1])\n",
        "    if num > 0:\n",
        "        labeled_nodes = labeled_nodes[:num]\n",
        "    nodes_list = [set(labeled_nodes)]\n",
        "    edges_list = []\n",
        "    all_nodes = labeled_nodes\n",
        "    for k in range(K):\n",
        "        # Get nodes and edges from the previous layer\n",
        "        nodes, all_nodes, edges = \\\n",
        "            sample_neighbors(nodes_list[-1], graph.G, ratios[len(ratios) - k - 2], all_nodes)\n",
        "        nodes_list.append(nodes)\n",
        "        edges_list.append(edges)\n",
        "    \n",
        "    # Reverse the lists\n",
        "    nodes_list.reverse()\n",
        "    edges_list.reverse()\n",
        "\n",
        "    relabled_edges_list, relabeled_all_nodes, relabeled_labeled_nodes = \\\n",
        "        relable(all_nodes, labeled_nodes, edges_list)\n",
        "\n",
        "    node_index = nodes_to_tensor(relabeled_all_nodes)\n",
        "    # All node features that will be used\n",
        "    node_feature = graph.node_feature[node_index]\n",
        "    edge_indices = [edges_to_tensor(edges) for edges in relabled_edges_list]\n",
        "    node_label_index = nodes_to_tensor(relabeled_labeled_nodes)\n",
        "    log = \"Sampled {} nodes, {} edges, {} labeled nodes\"\n",
        "    print(log.format(node_feature.shape[0], edge_indices[0].shape[1] // 2, node_label_index.shape[0]))\n",
        "    return node_feature, edge_indices, node_label_index"
      ]
    },
    {
      "cell_type": "markdown",
      "metadata": {
        "id": "ooy6Hcf7TIhI"
      },
      "source": [
        "## Training and Testing"
      ]
    },
    {
      "cell_type": "code",
      "execution_count": 13,
      "metadata": {
        "id": "iSmZhpzPTGPY"
      },
      "outputs": [],
      "source": [
        "def train(train_graphs, val_graphs, args, model, optimizer, mode=\"batch\"):\n",
        "    best_val = 0\n",
        "    best_model = None\n",
        "    accs = []\n",
        "    graph_train = train_graphs[0]\n",
        "    graph_train.to(args['device'])\n",
        "    for epoch in range(1, 1 + args['epochs']):\n",
        "        model.train()\n",
        "        optimizer.zero_grad()\n",
        "        if mode == \"batch\":\n",
        "            node_feature, edge_indices, node_label_index = neighbor_sampling(graph_train, args['num_layers'], args['ratios'])\n",
        "            node_feature = node_feature.to(args['device'])\n",
        "            node_label_index = node_label_index.to(args['device'])\n",
        "            for i in range(len(edge_indices)):\n",
        "                edge_indices[i] = edge_indices[i].to(args['device'])\n",
        "            pred = model([edge_indices, node_feature])\n",
        "            pred = pred[node_label_index]\n",
        "            label = graph_train.node_label[node_label_index]\n",
        "        elif mode == \"community\":\n",
        "            graph = random.choice(train_graphs)\n",
        "            graph = graph.to(args['device'])\n",
        "            pred = model(graph, mode=\"all\")\n",
        "            pred = pred[graph.node_label_index]\n",
        "            label = graph.node_label[graph.node_label_index]\n",
        "        else:\n",
        "            pred = model(graph_train, mode=\"all\")\n",
        "            label = graph_train.node_label\n",
        "            pred = pred[graph_train.node_label_index]\n",
        "        loss = F.nll_loss(pred, label)\n",
        "        loss.backward()\n",
        "        optimizer.step()\n",
        "\n",
        "        train_acc, val_acc, test_acc = test(val_graphs, model)\n",
        "        accs.append((train_acc, val_acc, test_acc))\n",
        "        if val_acc > best_val:\n",
        "            best_val = val_acc\n",
        "            best_model = copy.deepcopy(model)\n",
        "        print(f'Epoch: {epoch:02d}, '\n",
        "              f'Loss: {loss:.4f}, '\n",
        "              f'Train: {100 * train_acc:.2f}%, '\n",
        "              f'Valid: {100 * val_acc:.2f}% '\n",
        "              f'Test: {100 * test_acc:.2f}%')\n",
        "    return best_model, accs\n",
        "\n",
        "def test(graphs, model):\n",
        "    model.eval()\n",
        "    accs = []\n",
        "    for graph in graphs:\n",
        "        graph = graph.to(args['device'])\n",
        "        pred = model(graph, mode=\"all\")\n",
        "        label = graph.node_label\n",
        "        pred = pred[graph.node_label_index].max(1)[1]\n",
        "        acc = pred.eq(label).sum().item()\n",
        "        acc /= len(label)\n",
        "        accs.append(acc)\n",
        "    return accs"
      ]
    },
    {
      "cell_type": "code",
      "execution_count": 14,
      "metadata": {
        "id": "HV7i0v0ETKzf"
      },
      "outputs": [],
      "source": [
        "args = {\n",
        "    'device': torch.device('cuda' if torch.cuda.is_available() else 'cpu'),\n",
        "    'dropout': 0.5,\n",
        "    'num_layers': 2,\n",
        "    'hidden_size': 64,\n",
        "    'lr': 0.005,\n",
        "    'epochs': 50,\n",
        "    'ratios': (0.8, 0.8, 1),\n",
        "}"
      ]
    },
    {
      "cell_type": "markdown",
      "metadata": {
        "id": "rLpRYKbnTQnj"
      },
      "source": [
        "## Full-Batch Training"
      ]
    },
    {
      "cell_type": "code",
      "execution_count": 15,
      "metadata": {
        "id": "pMGGjbJBTOo1",
        "colab": {
          "base_uri": "https://localhost:8080/"
        },
        "outputId": "e246f901-f47c-4177-d021-c89d6e8ed366"
      },
      "outputs": [
        {
          "output_type": "stream",
          "name": "stdout",
          "text": [
            "Index fields: test_mask ignored.\n",
            "Index fields: val_mask ignored.\n",
            "Index fields: train_mask ignored.\n",
            "Epoch: 01, Loss: 1.9746, Train: 51.43%, Valid: 19.00% Test: 21.60%\n",
            "Epoch: 02, Loss: 1.1768, Train: 73.57%, Valid: 29.00% Test: 31.30%\n",
            "Epoch: 03, Loss: 0.6920, Train: 95.00%, Valid: 36.80% Test: 36.40%\n",
            "Epoch: 04, Loss: 0.3667, Train: 100.00%, Valid: 44.80% Test: 43.10%\n",
            "Epoch: 05, Loss: 0.1795, Train: 100.00%, Valid: 51.20% Test: 49.70%\n",
            "Epoch: 06, Loss: 0.0829, Train: 100.00%, Valid: 55.40% Test: 54.90%\n",
            "Epoch: 07, Loss: 0.0399, Train: 100.00%, Valid: 59.00% Test: 59.10%\n",
            "Epoch: 08, Loss: 0.0217, Train: 100.00%, Valid: 61.60% Test: 62.80%\n",
            "Epoch: 09, Loss: 0.0140, Train: 100.00%, Valid: 63.40% Test: 65.70%\n",
            "Epoch: 10, Loss: 0.0086, Train: 100.00%, Valid: 66.60% Test: 68.40%\n",
            "Epoch: 11, Loss: 0.0055, Train: 100.00%, Valid: 67.20% Test: 69.40%\n",
            "Epoch: 12, Loss: 0.0024, Train: 100.00%, Valid: 68.60% Test: 70.20%\n",
            "Epoch: 13, Loss: 0.0031, Train: 100.00%, Valid: 69.60% Test: 70.90%\n",
            "Epoch: 14, Loss: 0.0050, Train: 100.00%, Valid: 70.40% Test: 71.20%\n",
            "Epoch: 15, Loss: 0.0007, Train: 100.00%, Valid: 70.80% Test: 71.10%\n",
            "Epoch: 16, Loss: 0.0007, Train: 100.00%, Valid: 71.40% Test: 71.60%\n",
            "Epoch: 17, Loss: 0.0008, Train: 100.00%, Valid: 72.00% Test: 71.90%\n",
            "Epoch: 18, Loss: 0.0007, Train: 100.00%, Valid: 73.00% Test: 72.30%\n",
            "Epoch: 19, Loss: 0.0003, Train: 100.00%, Valid: 73.00% Test: 72.40%\n",
            "Epoch: 20, Loss: 0.0004, Train: 100.00%, Valid: 72.80% Test: 72.60%\n",
            "Epoch: 21, Loss: 0.0002, Train: 100.00%, Valid: 72.80% Test: 73.60%\n",
            "Epoch: 22, Loss: 0.0009, Train: 100.00%, Valid: 73.00% Test: 73.60%\n",
            "Epoch: 23, Loss: 0.0001, Train: 100.00%, Valid: 73.00% Test: 73.90%\n",
            "Epoch: 24, Loss: 0.0001, Train: 100.00%, Valid: 73.00% Test: 74.10%\n",
            "Epoch: 25, Loss: 0.0001, Train: 100.00%, Valid: 73.00% Test: 74.30%\n",
            "Epoch: 26, Loss: 0.0001, Train: 100.00%, Valid: 73.00% Test: 74.40%\n",
            "Epoch: 27, Loss: 0.0001, Train: 100.00%, Valid: 73.00% Test: 74.30%\n",
            "Epoch: 28, Loss: 0.0000, Train: 100.00%, Valid: 73.20% Test: 74.40%\n",
            "Epoch: 29, Loss: 0.0000, Train: 100.00%, Valid: 73.20% Test: 74.40%\n",
            "Epoch: 30, Loss: 0.0003, Train: 100.00%, Valid: 73.00% Test: 74.30%\n",
            "Epoch: 31, Loss: 0.0002, Train: 100.00%, Valid: 72.80% Test: 74.40%\n",
            "Epoch: 32, Loss: 0.0008, Train: 100.00%, Valid: 72.60% Test: 74.50%\n",
            "Epoch: 33, Loss: 0.0000, Train: 100.00%, Valid: 72.60% Test: 74.50%\n",
            "Epoch: 34, Loss: 0.0001, Train: 100.00%, Valid: 72.60% Test: 74.60%\n",
            "Epoch: 35, Loss: 0.0001, Train: 100.00%, Valid: 72.60% Test: 74.70%\n",
            "Epoch: 36, Loss: 0.0000, Train: 100.00%, Valid: 72.40% Test: 74.70%\n",
            "Epoch: 37, Loss: 0.0000, Train: 100.00%, Valid: 72.40% Test: 74.70%\n",
            "Epoch: 38, Loss: 0.0000, Train: 100.00%, Valid: 72.40% Test: 74.70%\n",
            "Epoch: 39, Loss: 0.0000, Train: 100.00%, Valid: 72.40% Test: 74.70%\n",
            "Epoch: 40, Loss: 0.0000, Train: 100.00%, Valid: 72.40% Test: 74.70%\n",
            "Epoch: 41, Loss: 0.0001, Train: 100.00%, Valid: 72.40% Test: 74.70%\n",
            "Epoch: 42, Loss: 0.0002, Train: 100.00%, Valid: 72.20% Test: 74.70%\n",
            "Epoch: 43, Loss: 0.0001, Train: 100.00%, Valid: 72.20% Test: 74.80%\n",
            "Epoch: 44, Loss: 0.0003, Train: 100.00%, Valid: 72.00% Test: 74.80%\n",
            "Epoch: 45, Loss: 0.0001, Train: 100.00%, Valid: 72.00% Test: 74.70%\n",
            "Epoch: 46, Loss: 0.0001, Train: 100.00%, Valid: 72.00% Test: 74.70%\n",
            "Epoch: 47, Loss: 0.0004, Train: 100.00%, Valid: 72.00% Test: 74.70%\n",
            "Epoch: 48, Loss: 0.0001, Train: 100.00%, Valid: 71.80% Test: 74.70%\n",
            "Epoch: 49, Loss: 0.0000, Train: 100.00%, Valid: 72.00% Test: 74.60%\n",
            "Epoch: 50, Loss: 0.0000, Train: 100.00%, Valid: 72.00% Test: 74.60%\n",
            "Best model: Train: 100.00%, Valid: 73.20% Test: 74.40%\n"
          ]
        }
      ],
      "source": [
        "graphs_train, graphs_val, graphs_test = \\\n",
        "    GraphDataset.pyg_to_graphs(pyg_dataset, verbose=True, fixed_split=True)\n",
        "\n",
        "graph_train = graphs_train[0]\n",
        "graph_val = graphs_val[0]\n",
        "graph_test = graphs_test[0]\n",
        "\n",
        "model = GNN(graph_train.num_node_features, args['hidden_size'], graph_train.num_node_labels, args).to(args['device'])\n",
        "optimizer = torch.optim.Adam(model.parameters(), lr=args['lr'])\n",
        "graphs = [graph_train, graph_val, graph_test]\n",
        "all_best_model, all_accs = train(graphs, graphs, args, model, optimizer, mode=\"all\")\n",
        "train_acc, val_acc, test_acc = test([graph_train, graph_val, graph_test], all_best_model)\n",
        "print('Best model:',\n",
        "      f'Train: {100 * train_acc:.2f}%, '\n",
        "      f'Valid: {100 * val_acc:.2f}% '\n",
        "      f'Test: {100 * test_acc:.2f}%')"
      ]
    },
    {
      "cell_type": "markdown",
      "metadata": {
        "id": "JWkGiwB6Thr4"
      },
      "source": [
        "## Sampling with Ratios 0.8"
      ]
    },
    {
      "cell_type": "code",
      "execution_count": 16,
      "metadata": {
        "id": "yWusJ9u3Tfhv",
        "colab": {
          "base_uri": "https://localhost:8080/"
        },
        "outputId": "9a7e43a0-fc54-42f0-ae15-ddab13e5dbd3"
      },
      "outputs": [
        {
          "output_type": "stream",
          "name": "stdout",
          "text": [
            "Index fields: test_mask ignored.\n",
            "Index fields: val_mask ignored.\n",
            "Index fields: train_mask ignored.\n",
            "Sampled 1328 nodes, 1997 edges, 140 labeled nodes\n",
            "Epoch: 01, Loss: 2.0073, Train: 32.86%, Valid: 13.20% Test: 14.10%\n",
            "Sampled 1314 nodes, 1971 edges, 140 labeled nodes\n",
            "Epoch: 02, Loss: 1.6474, Train: 55.71%, Valid: 16.80% Test: 18.30%\n",
            "Sampled 1294 nodes, 1949 edges, 140 labeled nodes\n",
            "Epoch: 03, Loss: 1.3858, Train: 73.57%, Valid: 26.80% Test: 27.50%\n",
            "Sampled 1315 nodes, 2022 edges, 140 labeled nodes\n",
            "Epoch: 04, Loss: 1.0821, Train: 87.14%, Valid: 31.40% Test: 31.70%\n",
            "Sampled 1307 nodes, 2012 edges, 140 labeled nodes\n",
            "Epoch: 05, Loss: 0.8320, Train: 92.14%, Valid: 35.20% Test: 34.60%\n",
            "Sampled 1289 nodes, 1968 edges, 140 labeled nodes\n",
            "Epoch: 06, Loss: 0.6978, Train: 96.43%, Valid: 39.00% Test: 38.60%\n",
            "Sampled 1302 nodes, 1976 edges, 140 labeled nodes\n",
            "Epoch: 07, Loss: 0.4461, Train: 98.57%, Valid: 41.80% Test: 41.60%\n",
            "Sampled 1308 nodes, 1995 edges, 140 labeled nodes\n",
            "Epoch: 08, Loss: 0.3699, Train: 99.29%, Valid: 45.00% Test: 43.50%\n",
            "Sampled 1331 nodes, 2003 edges, 140 labeled nodes\n",
            "Epoch: 09, Loss: 0.3088, Train: 99.29%, Valid: 45.00% Test: 44.70%\n",
            "Sampled 1374 nodes, 2113 edges, 140 labeled nodes\n",
            "Epoch: 10, Loss: 0.2136, Train: 99.29%, Valid: 46.20% Test: 47.10%\n",
            "Sampled 1327 nodes, 2000 edges, 140 labeled nodes\n",
            "Epoch: 11, Loss: 0.1975, Train: 99.29%, Valid: 47.20% Test: 49.30%\n",
            "Sampled 1293 nodes, 1959 edges, 140 labeled nodes\n",
            "Epoch: 12, Loss: 0.1391, Train: 100.00%, Valid: 48.20% Test: 50.40%\n",
            "Sampled 1330 nodes, 2020 edges, 140 labeled nodes\n",
            "Epoch: 13, Loss: 0.0852, Train: 100.00%, Valid: 48.20% Test: 50.50%\n",
            "Sampled 1325 nodes, 1968 edges, 140 labeled nodes\n",
            "Epoch: 14, Loss: 0.0898, Train: 100.00%, Valid: 49.40% Test: 51.10%\n",
            "Sampled 1323 nodes, 2011 edges, 140 labeled nodes\n",
            "Epoch: 15, Loss: 0.0636, Train: 100.00%, Valid: 49.80% Test: 51.00%\n",
            "Sampled 1329 nodes, 2032 edges, 140 labeled nodes\n",
            "Epoch: 16, Loss: 0.0675, Train: 100.00%, Valid: 49.00% Test: 50.90%\n",
            "Sampled 1325 nodes, 1990 edges, 140 labeled nodes\n",
            "Epoch: 17, Loss: 0.0634, Train: 100.00%, Valid: 48.80% Test: 50.80%\n",
            "Sampled 1287 nodes, 1887 edges, 140 labeled nodes\n",
            "Epoch: 18, Loss: 0.0667, Train: 100.00%, Valid: 49.60% Test: 51.00%\n",
            "Sampled 1339 nodes, 2021 edges, 140 labeled nodes\n",
            "Epoch: 19, Loss: 0.0595, Train: 100.00%, Valid: 48.60% Test: 51.10%\n",
            "Sampled 1284 nodes, 1935 edges, 140 labeled nodes\n",
            "Epoch: 20, Loss: 0.0342, Train: 100.00%, Valid: 48.20% Test: 51.30%\n",
            "Sampled 1303 nodes, 1971 edges, 140 labeled nodes\n",
            "Epoch: 21, Loss: 0.0302, Train: 100.00%, Valid: 48.00% Test: 51.30%\n",
            "Sampled 1330 nodes, 1993 edges, 140 labeled nodes\n",
            "Epoch: 22, Loss: 0.0336, Train: 100.00%, Valid: 47.80% Test: 51.50%\n",
            "Sampled 1334 nodes, 2006 edges, 140 labeled nodes\n",
            "Epoch: 23, Loss: 0.0250, Train: 100.00%, Valid: 47.80% Test: 51.50%\n",
            "Sampled 1332 nodes, 2034 edges, 140 labeled nodes\n",
            "Epoch: 24, Loss: 0.0384, Train: 100.00%, Valid: 47.40% Test: 51.20%\n",
            "Sampled 1308 nodes, 1994 edges, 140 labeled nodes\n",
            "Epoch: 25, Loss: 0.0148, Train: 100.00%, Valid: 47.40% Test: 51.30%\n",
            "Sampled 1365 nodes, 2058 edges, 140 labeled nodes\n",
            "Epoch: 26, Loss: 0.0173, Train: 100.00%, Valid: 47.20% Test: 51.30%\n",
            "Sampled 1313 nodes, 1998 edges, 140 labeled nodes\n",
            "Epoch: 27, Loss: 0.0088, Train: 100.00%, Valid: 47.20% Test: 51.30%\n",
            "Sampled 1321 nodes, 1972 edges, 140 labeled nodes\n",
            "Epoch: 28, Loss: 0.0174, Train: 100.00%, Valid: 47.40% Test: 51.30%\n",
            "Sampled 1336 nodes, 2005 edges, 140 labeled nodes\n",
            "Epoch: 29, Loss: 0.0279, Train: 100.00%, Valid: 47.60% Test: 51.20%\n",
            "Sampled 1327 nodes, 2031 edges, 140 labeled nodes\n",
            "Epoch: 30, Loss: 0.0072, Train: 100.00%, Valid: 47.40% Test: 51.20%\n",
            "Sampled 1304 nodes, 1972 edges, 140 labeled nodes\n",
            "Epoch: 31, Loss: 0.0253, Train: 100.00%, Valid: 48.80% Test: 51.60%\n",
            "Sampled 1277 nodes, 1944 edges, 140 labeled nodes\n",
            "Epoch: 32, Loss: 0.0138, Train: 100.00%, Valid: 49.00% Test: 52.00%\n",
            "Sampled 1322 nodes, 1992 edges, 140 labeled nodes\n",
            "Epoch: 33, Loss: 0.0143, Train: 100.00%, Valid: 48.60% Test: 52.00%\n",
            "Sampled 1293 nodes, 1990 edges, 140 labeled nodes\n",
            "Epoch: 34, Loss: 0.0109, Train: 100.00%, Valid: 49.00% Test: 51.90%\n",
            "Sampled 1309 nodes, 2010 edges, 140 labeled nodes\n",
            "Epoch: 35, Loss: 0.0324, Train: 100.00%, Valid: 49.00% Test: 51.80%\n",
            "Sampled 1336 nodes, 1984 edges, 140 labeled nodes\n",
            "Epoch: 36, Loss: 0.0306, Train: 100.00%, Valid: 49.80% Test: 51.70%\n",
            "Sampled 1277 nodes, 1988 edges, 140 labeled nodes\n",
            "Epoch: 37, Loss: 0.0210, Train: 100.00%, Valid: 49.20% Test: 52.40%\n",
            "Sampled 1299 nodes, 1966 edges, 140 labeled nodes\n",
            "Epoch: 38, Loss: 0.0096, Train: 100.00%, Valid: 49.00% Test: 52.20%\n",
            "Sampled 1283 nodes, 1948 edges, 140 labeled nodes\n",
            "Epoch: 39, Loss: 0.0038, Train: 100.00%, Valid: 49.00% Test: 52.30%\n",
            "Sampled 1299 nodes, 1966 edges, 140 labeled nodes\n",
            "Epoch: 40, Loss: 0.0073, Train: 100.00%, Valid: 48.40% Test: 52.30%\n",
            "Sampled 1308 nodes, 2005 edges, 140 labeled nodes\n",
            "Epoch: 41, Loss: 0.0077, Train: 100.00%, Valid: 48.00% Test: 52.10%\n",
            "Sampled 1254 nodes, 1868 edges, 140 labeled nodes\n",
            "Epoch: 42, Loss: 0.0142, Train: 100.00%, Valid: 47.60% Test: 51.80%\n",
            "Sampled 1276 nodes, 1961 edges, 140 labeled nodes\n",
            "Epoch: 43, Loss: 0.0195, Train: 100.00%, Valid: 47.60% Test: 51.50%\n",
            "Sampled 1316 nodes, 2043 edges, 140 labeled nodes\n",
            "Epoch: 44, Loss: 0.0039, Train: 100.00%, Valid: 47.40% Test: 51.40%\n",
            "Sampled 1318 nodes, 1969 edges, 140 labeled nodes\n",
            "Epoch: 45, Loss: 0.0112, Train: 100.00%, Valid: 47.60% Test: 51.40%\n",
            "Sampled 1303 nodes, 1928 edges, 140 labeled nodes\n",
            "Epoch: 46, Loss: 0.0017, Train: 100.00%, Valid: 48.20% Test: 52.00%\n",
            "Sampled 1297 nodes, 1937 edges, 140 labeled nodes\n",
            "Epoch: 47, Loss: 0.0154, Train: 100.00%, Valid: 48.20% Test: 51.90%\n",
            "Sampled 1333 nodes, 2020 edges, 140 labeled nodes\n",
            "Epoch: 48, Loss: 0.0041, Train: 100.00%, Valid: 47.60% Test: 51.50%\n",
            "Sampled 1328 nodes, 2027 edges, 140 labeled nodes\n",
            "Epoch: 49, Loss: 0.0259, Train: 100.00%, Valid: 47.60% Test: 51.60%\n",
            "Sampled 1340 nodes, 2023 edges, 140 labeled nodes\n",
            "Epoch: 50, Loss: 0.0111, Train: 100.00%, Valid: 47.80% Test: 52.00%\n",
            "Best model: Train: 100.00%, Valid: 49.80% Test: 51.00%\n"
          ]
        }
      ],
      "source": [
        "args['ratios'] = (0.8, 0.8, 1)\n",
        "\n",
        "graphs_train, graphs_val, graphs_test = \\\n",
        "    GraphDataset.pyg_to_graphs(pyg_dataset, verbose=True, fixed_split=True)\n",
        "\n",
        "graph_train = graphs_train[0]\n",
        "graph_val = graphs_val[0]\n",
        "graph_test = graphs_test[0]\n",
        "\n",
        "model = GNN(graph_train.num_node_features, args['hidden_size'], graph_train.num_node_labels, args).to(args['device'])\n",
        "optimizer = torch.optim.Adam(model.parameters(), lr=args['lr'])\n",
        "graphs = [graph_train, graph_val, graph_test]\n",
        "batch_best_model, batch_accs = train(graphs, graphs, args, model, optimizer)\n",
        "train_acc, val_acc, test_acc = test([graph_train, graph_val, graph_test], batch_best_model)\n",
        "print('Best model:',\n",
        "      f'Train: {100 * train_acc:.2f}%, '\n",
        "      f'Valid: {100 * val_acc:.2f}% '\n",
        "      f'Test: {100 * test_acc:.2f}%')"
      ]
    },
    {
      "cell_type": "markdown",
      "metadata": {
        "id": "w_FjkNHDT4c6"
      },
      "source": [
        "## Sampling with Ratios 0.3"
      ]
    },
    {
      "cell_type": "code",
      "execution_count": 17,
      "metadata": {
        "id": "booJ6DASTjO4",
        "colab": {
          "base_uri": "https://localhost:8080/"
        },
        "outputId": "789d1a25-93f2-4b2e-db87-bce33210e5fe"
      },
      "outputs": [
        {
          "output_type": "stream",
          "name": "stdout",
          "text": [
            "Index fields: test_mask ignored.\n",
            "Index fields: val_mask ignored.\n",
            "Index fields: train_mask ignored.\n",
            "Sampled 407 nodes, 212 edges, 140 labeled nodes\n",
            "Epoch: 01, Loss: 2.0069, Train: 18.57%, Valid: 16.60% Test: 15.70%\n",
            "Sampled 446 nodes, 255 edges, 140 labeled nodes\n",
            "Epoch: 02, Loss: 1.9280, Train: 20.71%, Valid: 21.00% Test: 19.20%\n",
            "Sampled 408 nodes, 226 edges, 140 labeled nodes\n",
            "Epoch: 03, Loss: 1.8744, Train: 25.00%, Valid: 23.60% Test: 23.10%\n",
            "Sampled 441 nodes, 256 edges, 140 labeled nodes\n",
            "Epoch: 04, Loss: 1.8799, Train: 33.57%, Valid: 27.80% Test: 28.60%\n",
            "Sampled 381 nodes, 183 edges, 140 labeled nodes\n",
            "Epoch: 05, Loss: 1.8575, Train: 36.43%, Valid: 28.80% Test: 31.20%\n",
            "Sampled 446 nodes, 262 edges, 140 labeled nodes\n",
            "Epoch: 06, Loss: 1.7968, Train: 40.71%, Valid: 31.00% Test: 32.50%\n",
            "Sampled 395 nodes, 213 edges, 140 labeled nodes\n",
            "Epoch: 07, Loss: 1.6951, Train: 44.29%, Valid: 30.60% Test: 32.10%\n",
            "Sampled 417 nodes, 237 edges, 140 labeled nodes\n",
            "Epoch: 08, Loss: 1.7865, Train: 47.14%, Valid: 30.20% Test: 32.00%\n",
            "Sampled 423 nodes, 235 edges, 140 labeled nodes\n",
            "Epoch: 09, Loss: 1.7997, Train: 50.00%, Valid: 28.20% Test: 32.00%\n",
            "Sampled 389 nodes, 200 edges, 140 labeled nodes\n",
            "Epoch: 10, Loss: 1.7161, Train: 52.14%, Valid: 29.60% Test: 32.60%\n",
            "Sampled 461 nodes, 278 edges, 140 labeled nodes\n",
            "Epoch: 11, Loss: 1.7998, Train: 52.14%, Valid: 29.80% Test: 31.80%\n",
            "Sampled 414 nodes, 213 edges, 140 labeled nodes\n",
            "Epoch: 12, Loss: 1.6850, Train: 53.57%, Valid: 30.00% Test: 32.00%\n",
            "Sampled 423 nodes, 240 edges, 140 labeled nodes\n",
            "Epoch: 13, Loss: 1.6295, Train: 53.57%, Valid: 31.20% Test: 32.70%\n",
            "Sampled 430 nodes, 234 edges, 140 labeled nodes\n",
            "Epoch: 14, Loss: 1.5917, Train: 56.43%, Valid: 32.00% Test: 34.60%\n",
            "Sampled 435 nodes, 243 edges, 140 labeled nodes\n",
            "Epoch: 15, Loss: 1.6462, Train: 58.57%, Valid: 32.20% Test: 35.40%\n",
            "Sampled 417 nodes, 230 edges, 140 labeled nodes\n",
            "Epoch: 16, Loss: 1.6548, Train: 58.57%, Valid: 33.40% Test: 36.70%\n",
            "Sampled 416 nodes, 221 edges, 140 labeled nodes\n",
            "Epoch: 17, Loss: 1.7728, Train: 60.71%, Valid: 35.80% Test: 38.50%\n",
            "Sampled 411 nodes, 230 edges, 140 labeled nodes\n",
            "Epoch: 18, Loss: 1.6532, Train: 62.14%, Valid: 37.00% Test: 39.60%\n",
            "Sampled 446 nodes, 262 edges, 140 labeled nodes\n",
            "Epoch: 19, Loss: 1.8378, Train: 61.43%, Valid: 38.20% Test: 40.10%\n",
            "Sampled 438 nodes, 252 edges, 140 labeled nodes\n",
            "Epoch: 20, Loss: 1.6625, Train: 63.57%, Valid: 38.80% Test: 40.70%\n",
            "Sampled 391 nodes, 191 edges, 140 labeled nodes\n",
            "Epoch: 21, Loss: 1.5996, Train: 63.57%, Valid: 39.80% Test: 41.80%\n",
            "Sampled 447 nodes, 274 edges, 140 labeled nodes\n",
            "Epoch: 22, Loss: 1.6968, Train: 63.57%, Valid: 39.40% Test: 42.10%\n",
            "Sampled 354 nodes, 162 edges, 140 labeled nodes\n",
            "Epoch: 23, Loss: 1.6763, Train: 64.29%, Valid: 41.00% Test: 42.20%\n",
            "Sampled 396 nodes, 221 edges, 140 labeled nodes\n",
            "Epoch: 24, Loss: 1.5415, Train: 63.57%, Valid: 41.80% Test: 41.40%\n",
            "Sampled 443 nodes, 249 edges, 140 labeled nodes\n",
            "Epoch: 25, Loss: 1.5240, Train: 65.71%, Valid: 41.60% Test: 40.60%\n",
            "Sampled 439 nodes, 268 edges, 140 labeled nodes\n",
            "Epoch: 26, Loss: 1.4530, Train: 63.57%, Valid: 40.40% Test: 40.70%\n",
            "Sampled 435 nodes, 244 edges, 140 labeled nodes\n",
            "Epoch: 27, Loss: 1.5747, Train: 62.86%, Valid: 39.20% Test: 39.70%\n",
            "Sampled 427 nodes, 228 edges, 140 labeled nodes\n",
            "Epoch: 28, Loss: 1.6516, Train: 62.86%, Valid: 38.80% Test: 39.70%\n",
            "Sampled 454 nodes, 286 edges, 140 labeled nodes\n",
            "Epoch: 29, Loss: 1.6920, Train: 60.71%, Valid: 38.80% Test: 39.40%\n",
            "Sampled 420 nodes, 237 edges, 140 labeled nodes\n",
            "Epoch: 30, Loss: 1.6049, Train: 60.71%, Valid: 38.80% Test: 39.20%\n",
            "Sampled 440 nodes, 259 edges, 140 labeled nodes\n",
            "Epoch: 31, Loss: 1.6590, Train: 61.43%, Valid: 39.40% Test: 39.80%\n",
            "Sampled 433 nodes, 252 edges, 140 labeled nodes\n",
            "Epoch: 32, Loss: 1.5525, Train: 61.43%, Valid: 40.00% Test: 40.80%\n",
            "Sampled 429 nodes, 252 edges, 140 labeled nodes\n",
            "Epoch: 33, Loss: 1.6449, Train: 60.00%, Valid: 40.20% Test: 41.20%\n",
            "Sampled 398 nodes, 206 edges, 140 labeled nodes\n",
            "Epoch: 34, Loss: 1.5606, Train: 60.71%, Valid: 39.20% Test: 42.10%\n",
            "Sampled 444 nodes, 266 edges, 140 labeled nodes\n",
            "Epoch: 35, Loss: 1.6774, Train: 60.71%, Valid: 39.80% Test: 41.70%\n",
            "Sampled 374 nodes, 186 edges, 140 labeled nodes\n",
            "Epoch: 36, Loss: 1.6591, Train: 61.43%, Valid: 39.20% Test: 41.70%\n",
            "Sampled 394 nodes, 187 edges, 140 labeled nodes\n",
            "Epoch: 37, Loss: 1.5630, Train: 62.86%, Valid: 39.40% Test: 42.30%\n",
            "Sampled 447 nodes, 249 edges, 140 labeled nodes\n",
            "Epoch: 38, Loss: 1.6208, Train: 62.14%, Valid: 39.40% Test: 42.30%\n",
            "Sampled 365 nodes, 176 edges, 140 labeled nodes\n",
            "Epoch: 39, Loss: 1.4734, Train: 62.86%, Valid: 39.80% Test: 43.50%\n",
            "Sampled 419 nodes, 237 edges, 140 labeled nodes\n",
            "Epoch: 40, Loss: 1.5526, Train: 64.29%, Valid: 40.20% Test: 43.80%\n",
            "Sampled 449 nodes, 274 edges, 140 labeled nodes\n",
            "Epoch: 41, Loss: 1.5151, Train: 65.00%, Valid: 40.60% Test: 43.90%\n",
            "Sampled 351 nodes, 159 edges, 140 labeled nodes\n",
            "Epoch: 42, Loss: 1.6257, Train: 65.00%, Valid: 41.40% Test: 44.30%\n",
            "Sampled 389 nodes, 197 edges, 140 labeled nodes\n",
            "Epoch: 43, Loss: 1.4970, Train: 66.43%, Valid: 42.40% Test: 45.40%\n",
            "Sampled 403 nodes, 222 edges, 140 labeled nodes\n",
            "Epoch: 44, Loss: 1.6045, Train: 66.43%, Valid: 42.60% Test: 45.40%\n",
            "Sampled 451 nodes, 257 edges, 140 labeled nodes\n",
            "Epoch: 45, Loss: 1.5353, Train: 66.43%, Valid: 42.80% Test: 45.20%\n",
            "Sampled 402 nodes, 217 edges, 140 labeled nodes\n",
            "Epoch: 46, Loss: 1.5114, Train: 65.71%, Valid: 44.20% Test: 45.60%\n",
            "Sampled 399 nodes, 225 edges, 140 labeled nodes\n",
            "Epoch: 47, Loss: 1.5679, Train: 65.71%, Valid: 44.00% Test: 45.20%\n",
            "Sampled 463 nodes, 279 edges, 140 labeled nodes\n",
            "Epoch: 48, Loss: 1.4956, Train: 65.00%, Valid: 44.20% Test: 45.80%\n",
            "Sampled 431 nodes, 254 edges, 140 labeled nodes\n",
            "Epoch: 49, Loss: 1.5447, Train: 63.57%, Valid: 44.00% Test: 45.60%\n",
            "Sampled 400 nodes, 208 edges, 140 labeled nodes\n",
            "Epoch: 50, Loss: 1.4790, Train: 64.29%, Valid: 43.40% Test: 45.70%\n",
            "Best model: Train: 65.71%, Valid: 44.20% Test: 45.60%\n"
          ]
        }
      ],
      "source": [
        "# Change the ratio to 0.3\n",
        "args['ratios'] = (0.3, 0.3, 1)\n",
        "\n",
        "graphs_train, graphs_val, graphs_test = \\\n",
        "    GraphDataset.pyg_to_graphs(pyg_dataset, verbose=True, fixed_split=True)\n",
        "\n",
        "graph_train = graphs_train[0]\n",
        "graph_val = graphs_val[0]\n",
        "graph_test = graphs_test[0]\n",
        "\n",
        "model = GNN(graph_train.num_node_features, args['hidden_size'], graph_train.num_node_labels, args).to(args['device'])\n",
        "optimizer = torch.optim.Adam(model.parameters(), lr=args['lr'])\n",
        "graphs = [graph_train, graph_val, graph_test]\n",
        "batch_best_model, batch_accs_1 = train(graphs, graphs, args, model, optimizer)\n",
        "train_acc, val_acc, test_acc = test([graph_train, graph_val, graph_test], batch_best_model)\n",
        "print('Best model:',\n",
        "      f'Train: {100 * train_acc:.2f}%, '\n",
        "      f'Valid: {100 * val_acc:.2f}% '\n",
        "      f'Test: {100 * test_acc:.2f}%')"
      ]
    },
    {
      "cell_type": "markdown",
      "metadata": {
        "id": "EePAvNlGUM2K"
      },
      "source": [
        "## Visualization"
      ]
    },
    {
      "cell_type": "code",
      "execution_count": 18,
      "metadata": {
        "id": "7etNAkXAT55d",
        "colab": {
          "base_uri": "https://localhost:8080/",
          "height": 458
        },
        "outputId": "c7e0aeb1-89f4-4a9e-8004-cb0de0371c88"
      },
      "outputs": [
        {
          "output_type": "display_data",
          "data": {
            "text/plain": [
              "<Figure size 648x504 with 1 Axes>"
            ],
            "image/png": "[encoded data removed]"
          },
          "metadata": {
            "needs_background": "light"
          }
        }
      ],
      "source": [
        "import numpy as np\n",
        "from matplotlib import pyplot as plt\n",
        "\n",
        "batch_results = np.array(batch_accs)\n",
        "batch_results_1 = np.array(batch_accs_1)\n",
        "all_results = np.array(all_accs)\n",
        "\n",
        "x = np.arange(1, 51)\n",
        "\n",
        "plt.figure(figsize=(9, 7))\n",
        "\n",
        "plt.plot(x, batch_results[:, 0], label=\"Batch 0.8 Train\")\n",
        "plt.plot(x, batch_results[:, 1], label=\"Batch 0.8 Validation\")\n",
        "plt.plot(x, batch_results[:, 2], label=\"Batch 0.8 Test\")\n",
        "plt.plot(x, batch_results_1[:, 0], label=\"Batch 0.3 Train\")\n",
        "plt.plot(x, batch_results_1[:, 1], label=\"Batch 0.3 Validation\")\n",
        "plt.plot(x, batch_results_1[:, 2], label=\"Batch 0.3 Test\")\n",
        "plt.plot(x, all_results[:, 0], label=\"All Train\")\n",
        "plt.plot(x, all_results[:, 1], label=\"All Validation\")\n",
        "plt.plot(x, all_results[:, 2], label=\"All Test\")\n",
        "plt.title('Model Accuracy')\n",
        "plt.ylabel('Accuracy')\n",
        "plt.xlabel('Epoch')\n",
        "plt.legend()\n",
        "plt.show()"
      ]
    },
    {
      "cell_type": "markdown",
      "metadata": {
        "id": "bkA7-0groq7q"
      },
      "source": [
        "Here all accuracies are evaluated on the full-batch mode."
      ]
    },
    {
      "cell_type": "markdown",
      "metadata": {
        "id": "Iee0U8KGURc8"
      },
      "source": [
        "# 3 Cluster Sampling\n",
        "\n",
        "Instead of the neighbor sampling, we can use another approach, subgraph (cluster) sampling, to scale up GNN. This approach is proposed in Cluster-GCN ([Chiang et al. (2019)](https://arxiv.org/abs/1905.07953)).\n",
        "\n",
        "In this section, we will implement vanilla Cluster-GCN and experiment with 3 different community partition algorithms.\n",
        "\n",
        "Notice that this section requires you have run the `Setup`, `GNN Model` and `Training and Testing` cells of the last section."
      ]
    },
    {
      "cell_type": "markdown",
      "metadata": {
        "id": "_BXjP79gUYir"
      },
      "source": [
        "## Setup"
      ]
    },
    {
      "cell_type": "code",
      "execution_count": 19,
      "metadata": {
        "id": "UGQ_VKp8UOEm"
      },
      "outputs": [],
      "source": [
        "import copy\n",
        "import torch\n",
        "import random\n",
        "import numpy as np\n",
        "import networkx as nx\n",
        "import torch.nn as nn\n",
        "import torch.nn.functional as F\n",
        "import community.community_louvain as community_louvain\n",
        "\n",
        "from torch_geometric.nn import SAGEConv\n",
        "from torch.utils.data import DataLoader\n",
        "from torch_geometric.datasets import Planetoid\n",
        "from torch.nn import Sequential, Linear, ReLU\n",
        "from deepsnap.dataset import GraphDataset\n",
        "from deepsnap.graph import Graph\n",
        "\n",
        "pyg_dataset = Planetoid('./tmp', \"Cora\")"
      ]
    },
    {
      "cell_type": "code",
      "execution_count": 20,
      "metadata": {
        "id": "bzMatyCSUaB6"
      },
      "outputs": [],
      "source": [
        "args = {\n",
        "    'device': torch.device('cuda' if torch.cuda.is_available() else 'cpu'),\n",
        "    'dropout': 0.5,\n",
        "    'num_layers': 2,\n",
        "    'hidden_size': 64,\n",
        "    'lr': 0.005,\n",
        "    'epochs': 150,\n",
        "}"
      ]
    },
    {
      "cell_type": "markdown",
      "metadata": {
        "id": "ekV-sokSUeLc"
      },
      "source": [
        "## Partition the Graph into Clusters\n",
        "\n",
        "Here we use following three community detection / partition algorithms to partition the graph into different clusters:\n",
        "* [Kernighan–Lin algorithm (bisection)](https://networkx.org/documentation/stable/reference/algorithms/generated/networkx.algorithms.community.kernighan_lin.kernighan_lin_bisection.html)\n",
        "* [Clauset-Newman-Moore greedy modularity maximization](https://networkx.org/documentation/stable/reference/algorithms/generated/networkx.algorithms.community.modularity_max.greedy_modularity_communities.html#networkx.algorithms.community.modularity_max.greedy_modularity_communities)\n",
        "* [Louvain algorithm](https://python-louvain.readthedocs.io/en/latest/api.html)\n",
        "\n",
        "\n",
        "To make the training more stable, we discard the cluster that has less than 10 nodes.\n",
        "\n",
        "Let's first define these algorithms as DeepSNAP transformation on a graph."
      ]
    },
    {
      "cell_type": "code",
      "execution_count": 21,
      "metadata": {
        "id": "N8XeT005UcKh"
      },
      "outputs": [],
      "source": [
        "def preprocess(G, node_label_index, method=\"louvain\"):\n",
        "    graphs = []\n",
        "    labeled_nodes = set(node_label_index.tolist())\n",
        "    if method == \"louvain\":\n",
        "        community_mapping = community_louvain.best_partition(G, resolution=10)\n",
        "        communities = {}\n",
        "        for node in community_mapping:\n",
        "            comm = community_mapping[node]\n",
        "            if comm in communities:\n",
        "                communities[comm].add(node)\n",
        "            else:\n",
        "                communities[comm] = set([node])\n",
        "        communities = communities.values()\n",
        "    elif method == \"bisection\":\n",
        "        communities = nx.algorithms.community.kernighan_lin_bisection(G)\n",
        "    elif method == \"greedy\":\n",
        "        communities = nx.algorithms.community.greedy_modularity_communities(G)\n",
        "\n",
        "    for community in communities:\n",
        "        nodes = set(community)\n",
        "        subgraph = G.subgraph(nodes)\n",
        "        # Make sure each subgraph has more than 10 nodes\n",
        "        if subgraph.number_of_nodes() > 10:\n",
        "            node_mapping = {node : i for i, node in enumerate(subgraph.nodes())}\n",
        "            subgraph = nx.relabel_nodes(subgraph, node_mapping)\n",
        "            # Get the id of the training set labeled node in the new graph\n",
        "            train_label_index = []\n",
        "            for node in labeled_nodes:\n",
        "                if node in node_mapping:\n",
        "                    # Append relabeled labeled node index\n",
        "                    train_label_index.append(node_mapping[node])\n",
        "\n",
        "            # Make sure the subgraph contains at least one training set labeled node\n",
        "            if len(train_label_index) > 0:\n",
        "                dg = Graph(subgraph)\n",
        "                # Update node_label_index\n",
        "                dg.node_label_index = torch.tensor(train_label_index, dtype=torch.long)\n",
        "                graphs.append(dg)\n",
        "    return graphs"
      ]
    },
    {
      "cell_type": "markdown",
      "metadata": {
        "id": "7CYEamCAU-TJ"
      },
      "source": [
        "## Louvain Preprocess"
      ]
    },
    {
      "cell_type": "code",
      "execution_count": 22,
      "metadata": {
        "id": "-TrC6ybWU7eO",
        "colab": {
          "base_uri": "https://localhost:8080/"
        },
        "outputId": "fcf1927a-8eae-40a6-f692-c03138812b5c"
      },
      "outputs": [
        {
          "output_type": "stream",
          "name": "stdout",
          "text": [
            "Index fields: test_mask ignored.\n",
            "Index fields: val_mask ignored.\n",
            "Index fields: train_mask ignored.\n",
            "Partition the graph in to 74 communities\n",
            "Each community has 21 nodes in average\n",
            "Each community has 31 edges in average\n"
          ]
        }
      ],
      "source": [
        "graphs_train, graphs_val, graphs_test = \\\n",
        "    GraphDataset.pyg_to_graphs(pyg_dataset, verbose=True, fixed_split=True)\n",
        "\n",
        "graph_train = graphs_train[0]\n",
        "graph_val = graphs_val[0]\n",
        "graph_test = graphs_test[0]\n",
        "graphs = preprocess(graph_train.G, graph_train.node_label_index, method=\"louvain\")\n",
        "print(\"Partition the graph in to {} communities\".format(len(graphs)))\n",
        "avg_num_nodes = 0\n",
        "avg_num_edges = 0\n",
        "for graph in graphs:\n",
        "    avg_num_nodes += graph.num_nodes\n",
        "    avg_num_edges += graph.num_edges\n",
        "avg_num_nodes = int(avg_num_nodes / len(graphs))\n",
        "avg_num_edges = int(avg_num_edges / len(graphs))\n",
        "print(\"Each community has {} nodes in average\".format(avg_num_nodes))\n",
        "print(\"Each community has {} edges in average\".format(avg_num_edges))"
      ]
    },
    {
      "cell_type": "markdown",
      "metadata": {
        "id": "O03uXIuGVIgJ"
      },
      "source": [
        "## Louvain Training"
      ]
    },
    {
      "cell_type": "code",
      "execution_count": 23,
      "metadata": {
        "id": "iSbGf5ADVFQq",
        "colab": {
          "base_uri": "https://localhost:8080/"
        },
        "outputId": "9e5def9e-657d-4ca1-880b-4c90e8d13f6d"
      },
      "outputs": [
        {
          "output_type": "stream",
          "name": "stdout",
          "text": [
            "Epoch: 01, Loss: 1.9603, Train: 14.29%, Valid: 12.20% Test: 13.00%\n",
            "Epoch: 02, Loss: 2.6627, Train: 14.29%, Valid: 12.20% Test: 13.00%\n",
            "Epoch: 03, Loss: 1.7358, Train: 14.29%, Valid: 12.40% Test: 13.00%\n",
            "Epoch: 04, Loss: 1.7722, Train: 16.43%, Valid: 12.40% Test: 13.00%\n",
            "Epoch: 05, Loss: 2.8830, Train: 16.43%, Valid: 12.60% Test: 13.60%\n",
            "Epoch: 06, Loss: 2.9599, Train: 15.71%, Valid: 13.40% Test: 13.70%\n",
            "Epoch: 07, Loss: 2.1967, Train: 15.71%, Valid: 16.00% Test: 12.90%\n",
            "Epoch: 08, Loss: 1.9894, Train: 15.00%, Valid: 15.80% Test: 13.90%\n",
            "Epoch: 09, Loss: 2.6716, Train: 15.00%, Valid: 14.80% Test: 13.40%\n",
            "Epoch: 10, Loss: 1.7193, Train: 17.14%, Valid: 14.60% Test: 14.10%\n",
            "Epoch: 11, Loss: 3.1722, Train: 16.43%, Valid: 14.60% Test: 13.40%\n",
            "Epoch: 12, Loss: 2.0712, Train: 19.29%, Valid: 13.20% Test: 13.80%\n",
            "Epoch: 13, Loss: 0.6594, Train: 20.71%, Valid: 13.00% Test: 14.10%\n",
            "Epoch: 14, Loss: 2.5782, Train: 22.86%, Valid: 13.80% Test: 13.10%\n",
            "Epoch: 15, Loss: 3.3516, Train: 20.71%, Valid: 13.40% Test: 13.60%\n",
            "Epoch: 16, Loss: 2.7207, Train: 19.29%, Valid: 13.40% Test: 13.40%\n",
            "Epoch: 17, Loss: 2.5449, Train: 19.29%, Valid: 13.60% Test: 13.80%\n",
            "Epoch: 18, Loss: 0.0388, Train: 20.00%, Valid: 13.40% Test: 13.60%\n",
            "Epoch: 19, Loss: 2.7950, Train: 20.00%, Valid: 13.00% Test: 13.30%\n",
            "Epoch: 20, Loss: 1.8653, Train: 18.57%, Valid: 13.00% Test: 13.20%\n",
            "Epoch: 21, Loss: 1.5064, Train: 18.57%, Valid: 13.00% Test: 13.30%\n",
            "Epoch: 22, Loss: 2.5990, Train: 20.00%, Valid: 13.80% Test: 12.90%\n",
            "Epoch: 23, Loss: 3.5917, Train: 24.29%, Valid: 14.40% Test: 12.00%\n",
            "Epoch: 24, Loss: 3.1050, Train: 25.00%, Valid: 14.80% Test: 11.40%\n",
            "Epoch: 25, Loss: 2.6107, Train: 24.29%, Valid: 15.20% Test: 13.00%\n",
            "Epoch: 26, Loss: 2.2246, Train: 25.00%, Valid: 14.60% Test: 13.70%\n",
            "Epoch: 27, Loss: 2.4428, Train: 25.00%, Valid: 14.20% Test: 12.40%\n",
            "Epoch: 28, Loss: 1.3594, Train: 24.29%, Valid: 13.80% Test: 12.10%\n",
            "Epoch: 29, Loss: 0.0510, Train: 22.86%, Valid: 13.00% Test: 12.50%\n",
            "Epoch: 30, Loss: 1.3420, Train: 23.57%, Valid: 12.20% Test: 12.40%\n",
            "Epoch: 31, Loss: 2.4383, Train: 24.29%, Valid: 12.40% Test: 12.00%\n",
            "Epoch: 32, Loss: 0.8908, Train: 23.57%, Valid: 11.60% Test: 12.00%\n",
            "Epoch: 33, Loss: 2.6924, Train: 21.43%, Valid: 11.20% Test: 11.90%\n",
            "Epoch: 34, Loss: 2.8488, Train: 24.29%, Valid: 10.40% Test: 11.40%\n",
            "Epoch: 35, Loss: 1.3952, Train: 26.43%, Valid: 10.20% Test: 10.20%\n",
            "Epoch: 36, Loss: 0.2039, Train: 25.71%, Valid: 9.40% Test: 10.40%\n",
            "Epoch: 37, Loss: 2.3123, Train: 27.86%, Valid: 9.60% Test: 10.30%\n",
            "Epoch: 38, Loss: 1.0586, Train: 27.14%, Valid: 9.60% Test: 9.70%\n",
            "Epoch: 39, Loss: 1.8594, Train: 28.57%, Valid: 9.80% Test: 9.40%\n",
            "Epoch: 40, Loss: 1.1361, Train: 29.29%, Valid: 9.40% Test: 9.20%\n",
            "Epoch: 41, Loss: 1.9195, Train: 27.86%, Valid: 9.40% Test: 8.30%\n",
            "Epoch: 42, Loss: 0.8828, Train: 26.43%, Valid: 9.40% Test: 9.10%\n",
            "Epoch: 43, Loss: 2.8343, Train: 25.71%, Valid: 9.20% Test: 9.80%\n",
            "Epoch: 44, Loss: 0.0093, Train: 25.00%, Valid: 10.80% Test: 9.50%\n",
            "Epoch: 45, Loss: 2.5725, Train: 29.29%, Valid: 10.00% Test: 10.30%\n",
            "Epoch: 46, Loss: 1.4978, Train: 27.14%, Valid: 10.80% Test: 11.40%\n",
            "Epoch: 47, Loss: 0.5633, Train: 27.86%, Valid: 12.20% Test: 11.50%\n",
            "Epoch: 48, Loss: 3.9026, Train: 31.43%, Valid: 13.00% Test: 12.00%\n",
            "Epoch: 49, Loss: 3.8620, Train: 32.14%, Valid: 13.60% Test: 11.90%\n",
            "Epoch: 50, Loss: 0.7076, Train: 32.14%, Valid: 13.20% Test: 11.80%\n",
            "Epoch: 51, Loss: 0.0848, Train: 33.57%, Valid: 14.40% Test: 11.70%\n",
            "Epoch: 52, Loss: 2.5751, Train: 32.14%, Valid: 14.80% Test: 11.70%\n",
            "Epoch: 53, Loss: 1.3949, Train: 32.14%, Valid: 13.60% Test: 11.80%\n",
            "Epoch: 54, Loss: 2.6834, Train: 32.86%, Valid: 14.60% Test: 11.80%\n",
            "Epoch: 55, Loss: 1.3349, Train: 36.43%, Valid: 14.80% Test: 11.40%\n",
            "Epoch: 56, Loss: 0.6912, Train: 36.43%, Valid: 14.80% Test: 11.30%\n",
            "Epoch: 57, Loss: 3.9744, Train: 37.14%, Valid: 14.40% Test: 11.80%\n",
            "Epoch: 58, Loss: 1.3683, Train: 36.43%, Valid: 14.60% Test: 12.70%\n",
            "Epoch: 59, Loss: 0.9520, Train: 37.14%, Valid: 15.00% Test: 13.10%\n",
            "Epoch: 60, Loss: 0.4542, Train: 37.14%, Valid: 16.00% Test: 13.00%\n",
            "Epoch: 61, Loss: 0.7867, Train: 36.43%, Valid: 16.60% Test: 13.40%\n",
            "Epoch: 62, Loss: 0.0180, Train: 36.43%, Valid: 17.20% Test: 13.90%\n",
            "Epoch: 63, Loss: 0.1457, Train: 37.86%, Valid: 16.60% Test: 13.90%\n",
            "Epoch: 64, Loss: 2.3968, Train: 36.43%, Valid: 16.60% Test: 13.80%\n",
            "Epoch: 65, Loss: 2.0320, Train: 37.14%, Valid: 17.20% Test: 14.00%\n",
            "Epoch: 66, Loss: 2.3039, Train: 38.57%, Valid: 18.80% Test: 14.00%\n",
            "Epoch: 67, Loss: 0.0681, Train: 37.86%, Valid: 18.80% Test: 14.60%\n",
            "Epoch: 68, Loss: 2.0672, Train: 39.29%, Valid: 18.80% Test: 14.90%\n",
            "Epoch: 69, Loss: 1.9822, Train: 42.14%, Valid: 18.20% Test: 15.30%\n",
            "Epoch: 70, Loss: 0.0261, Train: 40.71%, Valid: 19.00% Test: 15.30%\n",
            "Epoch: 71, Loss: 0.0055, Train: 42.14%, Valid: 18.40% Test: 14.20%\n",
            "Epoch: 72, Loss: 0.0151, Train: 42.14%, Valid: 18.20% Test: 14.40%\n",
            "Epoch: 73, Loss: 0.0650, Train: 42.14%, Valid: 17.20% Test: 14.30%\n",
            "Epoch: 74, Loss: 2.6419, Train: 43.57%, Valid: 18.20% Test: 14.10%\n",
            "Epoch: 75, Loss: 0.0782, Train: 43.57%, Valid: 19.40% Test: 14.10%\n",
            "Epoch: 76, Loss: 1.0515, Train: 44.29%, Valid: 17.80% Test: 13.40%\n",
            "Epoch: 77, Loss: 0.5761, Train: 42.86%, Valid: 17.20% Test: 13.60%\n",
            "Epoch: 78, Loss: 0.6541, Train: 42.86%, Valid: 17.80% Test: 14.40%\n",
            "Epoch: 79, Loss: 2.0343, Train: 43.57%, Valid: 16.60% Test: 14.40%\n",
            "Epoch: 80, Loss: 0.7430, Train: 44.29%, Valid: 16.20% Test: 14.10%\n",
            "Epoch: 81, Loss: 0.1216, Train: 45.00%, Valid: 16.60% Test: 14.20%\n",
            "Epoch: 82, Loss: 0.0100, Train: 43.57%, Valid: 18.00% Test: 15.00%\n",
            "Epoch: 83, Loss: 0.2672, Train: 41.43%, Valid: 16.60% Test: 16.00%\n",
            "Epoch: 84, Loss: 0.8128, Train: 41.43%, Valid: 16.20% Test: 16.30%\n",
            "Epoch: 85, Loss: 2.7033, Train: 41.43%, Valid: 16.20% Test: 16.00%\n",
            "Epoch: 86, Loss: 0.2799, Train: 41.43%, Valid: 15.60% Test: 15.80%\n",
            "Epoch: 87, Loss: 3.4044, Train: 40.71%, Valid: 15.80% Test: 16.00%\n",
            "Epoch: 88, Loss: 0.1123, Train: 40.71%, Valid: 16.20% Test: 16.20%\n",
            "Epoch: 89, Loss: 1.7168, Train: 44.29%, Valid: 16.00% Test: 15.80%\n",
            "Epoch: 90, Loss: 0.0802, Train: 46.43%, Valid: 15.80% Test: 16.00%\n",
            "Epoch: 91, Loss: 0.5748, Train: 47.14%, Valid: 15.60% Test: 15.10%\n",
            "Epoch: 92, Loss: 1.6259, Train: 48.57%, Valid: 15.00% Test: 14.20%\n",
            "Epoch: 93, Loss: 1.1953, Train: 48.57%, Valid: 14.60% Test: 13.90%\n",
            "Epoch: 94, Loss: 0.0816, Train: 48.57%, Valid: 13.80% Test: 14.10%\n",
            "Epoch: 95, Loss: 0.3296, Train: 50.00%, Valid: 12.80% Test: 13.20%\n",
            "Epoch: 96, Loss: 1.1078, Train: 49.29%, Valid: 13.00% Test: 12.90%\n",
            "Epoch: 97, Loss: 1.2204, Train: 47.86%, Valid: 12.80% Test: 13.10%\n",
            "Epoch: 98, Loss: 1.2835, Train: 47.86%, Valid: 13.40% Test: 13.70%\n",
            "Epoch: 99, Loss: 0.6902, Train: 47.14%, Valid: 13.40% Test: 13.10%\n",
            "Epoch: 100, Loss: 1.7779, Train: 46.43%, Valid: 13.40% Test: 13.20%\n",
            "Epoch: 101, Loss: 1.5793, Train: 45.71%, Valid: 13.80% Test: 13.70%\n",
            "Epoch: 102, Loss: 0.4111, Train: 43.57%, Valid: 13.60% Test: 13.30%\n",
            "Epoch: 103, Loss: 2.6169, Train: 43.57%, Valid: 12.80% Test: 13.20%\n",
            "Epoch: 104, Loss: 0.2103, Train: 45.00%, Valid: 12.60% Test: 13.50%\n",
            "Epoch: 105, Loss: 0.2172, Train: 43.57%, Valid: 13.60% Test: 13.80%\n",
            "Epoch: 106, Loss: 0.1813, Train: 43.57%, Valid: 14.40% Test: 13.60%\n",
            "Epoch: 107, Loss: 0.6304, Train: 45.00%, Valid: 14.40% Test: 13.60%\n",
            "Epoch: 108, Loss: 2.6683, Train: 45.71%, Valid: 14.60% Test: 14.00%\n",
            "Epoch: 109, Loss: 1.5813, Train: 46.43%, Valid: 13.40% Test: 13.90%\n",
            "Epoch: 110, Loss: 0.0133, Train: 45.71%, Valid: 13.40% Test: 13.90%\n",
            "Epoch: 111, Loss: 1.9322, Train: 45.71%, Valid: 13.60% Test: 12.90%\n",
            "Epoch: 112, Loss: 0.7061, Train: 45.71%, Valid: 13.20% Test: 12.70%\n",
            "Epoch: 113, Loss: 0.0902, Train: 45.71%, Valid: 13.80% Test: 12.70%\n",
            "Epoch: 114, Loss: 0.0234, Train: 47.14%, Valid: 13.40% Test: 12.70%\n",
            "Epoch: 115, Loss: 0.3897, Train: 49.29%, Valid: 12.20% Test: 11.60%\n",
            "Epoch: 116, Loss: 2.4167, Train: 48.57%, Valid: 12.60% Test: 11.70%\n",
            "Epoch: 117, Loss: 0.7557, Train: 49.29%, Valid: 12.40% Test: 11.80%\n",
            "Epoch: 118, Loss: 1.7275, Train: 50.00%, Valid: 12.20% Test: 11.30%\n",
            "Epoch: 119, Loss: 0.9543, Train: 49.29%, Valid: 12.40% Test: 11.70%\n",
            "Epoch: 120, Loss: 2.2911, Train: 47.86%, Valid: 12.20% Test: 11.90%\n",
            "Epoch: 121, Loss: 1.1708, Train: 48.57%, Valid: 12.20% Test: 11.80%\n",
            "Epoch: 122, Loss: 0.5278, Train: 49.29%, Valid: 12.20% Test: 12.40%\n",
            "Epoch: 123, Loss: 0.2584, Train: 50.71%, Valid: 13.00% Test: 12.00%\n",
            "Epoch: 124, Loss: 1.0425, Train: 52.14%, Valid: 13.20% Test: 12.90%\n",
            "Epoch: 125, Loss: 1.8564, Train: 53.57%, Valid: 13.40% Test: 12.50%\n",
            "Epoch: 126, Loss: 0.0585, Train: 53.57%, Valid: 14.00% Test: 12.50%\n",
            "Epoch: 127, Loss: 0.0218, Train: 55.00%, Valid: 13.40% Test: 12.70%\n",
            "Epoch: 128, Loss: 0.0287, Train: 55.71%, Valid: 14.40% Test: 12.40%\n",
            "Epoch: 129, Loss: 0.8256, Train: 55.00%, Valid: 14.00% Test: 12.90%\n",
            "Epoch: 130, Loss: 0.0234, Train: 55.00%, Valid: 13.80% Test: 13.40%\n",
            "Epoch: 131, Loss: 0.0026, Train: 55.00%, Valid: 13.60% Test: 13.40%\n",
            "Epoch: 132, Loss: 0.0008, Train: 53.57%, Valid: 13.60% Test: 13.40%\n",
            "Epoch: 133, Loss: 0.1888, Train: 54.29%, Valid: 13.00% Test: 14.00%\n",
            "Epoch: 134, Loss: 0.0182, Train: 55.00%, Valid: 13.00% Test: 14.10%\n",
            "Epoch: 135, Loss: 2.3585, Train: 54.29%, Valid: 13.00% Test: 14.30%\n",
            "Epoch: 136, Loss: 1.1898, Train: 55.71%, Valid: 14.00% Test: 15.00%\n",
            "Epoch: 137, Loss: 1.2404, Train: 56.43%, Valid: 14.40% Test: 14.40%\n",
            "Epoch: 138, Loss: 2.2943, Train: 56.43%, Valid: 14.80% Test: 14.50%\n",
            "Epoch: 139, Loss: 0.0623, Train: 58.57%, Valid: 15.40% Test: 15.10%\n",
            "Epoch: 140, Loss: 0.0990, Train: 57.14%, Valid: 15.00% Test: 15.30%\n",
            "Epoch: 141, Loss: 0.1234, Train: 57.14%, Valid: 15.20% Test: 15.20%\n",
            "Epoch: 142, Loss: 0.1512, Train: 57.86%, Valid: 14.80% Test: 14.90%\n",
            "Epoch: 143, Loss: 0.2642, Train: 57.14%, Valid: 14.60% Test: 15.20%\n",
            "Epoch: 144, Loss: 0.1393, Train: 57.86%, Valid: 14.60% Test: 14.70%\n",
            "Epoch: 145, Loss: 1.3726, Train: 57.14%, Valid: 14.00% Test: 14.80%\n",
            "Epoch: 146, Loss: 4.1628, Train: 57.14%, Valid: 14.80% Test: 15.30%\n",
            "Epoch: 147, Loss: 0.0269, Train: 57.14%, Valid: 15.40% Test: 15.40%\n",
            "Epoch: 148, Loss: 0.0000, Train: 56.43%, Valid: 15.40% Test: 14.80%\n",
            "Epoch: 149, Loss: 3.3020, Train: 56.43%, Valid: 15.60% Test: 14.90%\n",
            "Epoch: 150, Loss: 0.0212, Train: 57.86%, Valid: 15.20% Test: 14.30%\n",
            "Best model: Train: 43.57%, Valid: 19.40% Test: 14.10%\n"
          ]
        }
      ],
      "source": [
        "model = GNN(graph_train.num_node_features, args['hidden_size'], graph_train.num_node_labels, args).to(args['device'])\n",
        "optimizer = torch.optim.Adam(model.parameters(), lr=args['lr'])\n",
        "louvain_best_model, louvain_accs = train(graphs, [graph_train, graph_val, graph_test], args, model, optimizer, mode=\"community\")\n",
        "train_acc, val_acc, test_acc = test([graph_train, graph_val, graph_test], louvain_best_model)\n",
        "print('Best model:',\n",
        "      f'Train: {100 * train_acc:.2f}%, '\n",
        "      f'Valid: {100 * val_acc:.2f}% '\n",
        "      f'Test: {100 * test_acc:.2f}%')"
      ]
    },
    {
      "cell_type": "markdown",
      "metadata": {
        "id": "6CvTf0ANVO9U"
      },
      "source": [
        "## Bisection Preprocess"
      ]
    },
    {
      "cell_type": "code",
      "execution_count": 24,
      "metadata": {
        "id": "HkV0zlhgVJ7u",
        "colab": {
          "base_uri": "https://localhost:8080/"
        },
        "outputId": "1d51d02e-6177-4c67-db18-928bf5afa468"
      },
      "outputs": [
        {
          "output_type": "stream",
          "name": "stdout",
          "text": [
            "Index fields: test_mask ignored.\n",
            "Index fields: val_mask ignored.\n",
            "Index fields: train_mask ignored.\n",
            "Partition the graph in to 2 communities\n",
            "Each community has 1354 nodes in average\n",
            "Each community has 2400 edges in average\n"
          ]
        }
      ],
      "source": [
        "graphs_train, graphs_val, graphs_test = \\\n",
        "    GraphDataset.pyg_to_graphs(pyg_dataset, verbose=True, fixed_split=True)\n",
        "\n",
        "graph_train = graphs_train[0]\n",
        "graph_val = graphs_val[0]\n",
        "graph_test = graphs_test[0]\n",
        "graphs = preprocess(graph_train.G, graph_train.node_label_index, method=\"bisection\")\n",
        "print(\"Partition the graph in to {} communities\".format(len(graphs)))\n",
        "avg_num_nodes = 0\n",
        "avg_num_edges = 0\n",
        "for graph in graphs:\n",
        "    avg_num_nodes += graph.num_nodes\n",
        "    avg_num_edges += graph.num_edges\n",
        "avg_num_nodes = int(avg_num_nodes / len(graphs))\n",
        "avg_num_edges = int(avg_num_edges / len(graphs))\n",
        "print(\"Each community has {} nodes in average\".format(avg_num_nodes))\n",
        "print(\"Each community has {} edges in average\".format(avg_num_edges))"
      ]
    },
    {
      "cell_type": "markdown",
      "metadata": {
        "id": "IqMCvP8wVVms"
      },
      "source": [
        "## Bisection Training"
      ]
    },
    {
      "cell_type": "code",
      "execution_count": 25,
      "metadata": {
        "id": "k1wgFg1bVRGY",
        "colab": {
          "base_uri": "https://localhost:8080/"
        },
        "outputId": "b06718fc-addc-4809-db4b-89bb6b31a3dd"
      },
      "outputs": [
        {
          "output_type": "stream",
          "name": "stdout",
          "text": [
            "Epoch: 01, Loss: 2.0372, Train: 32.86%, Valid: 17.40% Test: 20.20%\n",
            "Epoch: 02, Loss: 1.0818, Train: 42.14%, Valid: 21.40% Test: 25.20%\n",
            "Epoch: 03, Loss: 1.8989, Train: 68.57%, Valid: 32.60% Test: 35.80%\n",
            "Epoch: 04, Loss: 0.3703, Train: 87.14%, Valid: 46.80% Test: 49.50%\n",
            "Epoch: 05, Loss: 0.2813, Train: 95.71%, Valid: 55.20% Test: 60.10%\n",
            "Epoch: 06, Loss: 0.1633, Train: 97.14%, Valid: 62.60% Test: 65.60%\n",
            "Epoch: 07, Loss: 0.0903, Train: 97.14%, Valid: 64.80% Test: 67.80%\n",
            "Epoch: 08, Loss: 0.0629, Train: 97.14%, Valid: 67.00% Test: 69.20%\n",
            "Epoch: 09, Loss: 0.3876, Train: 97.14%, Valid: 67.40% Test: 70.00%\n",
            "Epoch: 10, Loss: 0.0146, Train: 98.57%, Valid: 68.20% Test: 70.50%\n",
            "Epoch: 11, Loss: 0.0136, Train: 99.29%, Valid: 69.00% Test: 72.00%\n",
            "Epoch: 12, Loss: 0.1332, Train: 99.29%, Valid: 70.00% Test: 72.80%\n",
            "Epoch: 13, Loss: 0.0749, Train: 100.00%, Valid: 71.20% Test: 73.20%\n",
            "Epoch: 14, Loss: 0.0555, Train: 100.00%, Valid: 72.00% Test: 73.80%\n",
            "Epoch: 15, Loss: 0.0583, Train: 100.00%, Valid: 72.40% Test: 74.00%\n",
            "Epoch: 16, Loss: 0.0037, Train: 100.00%, Valid: 72.40% Test: 73.60%\n",
            "Epoch: 17, Loss: 0.0198, Train: 100.00%, Valid: 72.40% Test: 74.20%\n",
            "Epoch: 18, Loss: 0.0103, Train: 100.00%, Valid: 72.80% Test: 73.90%\n",
            "Epoch: 19, Loss: 0.0024, Train: 100.00%, Valid: 72.60% Test: 73.80%\n",
            "Epoch: 20, Loss: 0.0024, Train: 100.00%, Valid: 72.40% Test: 73.90%\n",
            "Epoch: 21, Loss: 0.0044, Train: 100.00%, Valid: 72.80% Test: 73.80%\n",
            "Epoch: 22, Loss: 0.0045, Train: 100.00%, Valid: 72.60% Test: 73.90%\n",
            "Epoch: 23, Loss: 0.0028, Train: 100.00%, Valid: 73.20% Test: 74.20%\n",
            "Epoch: 24, Loss: 0.0028, Train: 100.00%, Valid: 73.00% Test: 74.10%\n",
            "Epoch: 25, Loss: 0.0011, Train: 100.00%, Valid: 73.00% Test: 73.60%\n",
            "Epoch: 26, Loss: 0.0026, Train: 100.00%, Valid: 73.20% Test: 73.40%\n",
            "Epoch: 27, Loss: 0.0039, Train: 100.00%, Valid: 72.80% Test: 73.30%\n",
            "Epoch: 28, Loss: 0.0005, Train: 100.00%, Valid: 72.80% Test: 73.50%\n",
            "Epoch: 29, Loss: 0.0003, Train: 100.00%, Valid: 72.80% Test: 73.20%\n",
            "Epoch: 30, Loss: 0.0002, Train: 100.00%, Valid: 72.40% Test: 73.20%\n",
            "Epoch: 31, Loss: 0.0005, Train: 100.00%, Valid: 72.40% Test: 73.40%\n",
            "Epoch: 32, Loss: 0.0029, Train: 100.00%, Valid: 72.20% Test: 73.40%\n",
            "Epoch: 33, Loss: 0.0006, Train: 100.00%, Valid: 72.20% Test: 73.50%\n",
            "Epoch: 34, Loss: 0.0002, Train: 100.00%, Valid: 72.20% Test: 73.30%\n",
            "Epoch: 35, Loss: 0.0004, Train: 100.00%, Valid: 72.00% Test: 73.50%\n",
            "Epoch: 36, Loss: 0.0022, Train: 100.00%, Valid: 72.00% Test: 73.30%\n",
            "Epoch: 37, Loss: 0.0038, Train: 100.00%, Valid: 72.00% Test: 73.80%\n",
            "Epoch: 38, Loss: 0.0005, Train: 100.00%, Valid: 72.00% Test: 73.10%\n",
            "Epoch: 39, Loss: 0.0007, Train: 100.00%, Valid: 72.00% Test: 73.80%\n",
            "Epoch: 40, Loss: 0.0001, Train: 100.00%, Valid: 71.80% Test: 73.30%\n",
            "Epoch: 41, Loss: 0.0004, Train: 100.00%, Valid: 71.40% Test: 73.10%\n",
            "Epoch: 42, Loss: 0.0006, Train: 100.00%, Valid: 71.80% Test: 73.00%\n",
            "Epoch: 43, Loss: 0.0001, Train: 100.00%, Valid: 71.80% Test: 73.20%\n",
            "Epoch: 44, Loss: 0.0004, Train: 100.00%, Valid: 71.80% Test: 73.20%\n",
            "Epoch: 45, Loss: 0.0001, Train: 100.00%, Valid: 72.00% Test: 73.50%\n",
            "Epoch: 46, Loss: 0.0005, Train: 100.00%, Valid: 72.20% Test: 73.50%\n",
            "Epoch: 47, Loss: 0.0001, Train: 100.00%, Valid: 72.20% Test: 73.70%\n",
            "Epoch: 48, Loss: 0.0010, Train: 100.00%, Valid: 72.40% Test: 73.80%\n",
            "Epoch: 49, Loss: 0.0001, Train: 100.00%, Valid: 72.20% Test: 73.70%\n",
            "Epoch: 50, Loss: 0.0001, Train: 100.00%, Valid: 72.20% Test: 73.50%\n",
            "Epoch: 51, Loss: 0.0002, Train: 100.00%, Valid: 72.20% Test: 73.80%\n",
            "Epoch: 52, Loss: 0.0001, Train: 100.00%, Valid: 72.20% Test: 73.60%\n",
            "Epoch: 53, Loss: 0.0002, Train: 100.00%, Valid: 71.80% Test: 73.30%\n",
            "Epoch: 54, Loss: 0.0000, Train: 100.00%, Valid: 72.20% Test: 73.80%\n",
            "Epoch: 55, Loss: 0.0002, Train: 100.00%, Valid: 72.20% Test: 73.40%\n",
            "Epoch: 56, Loss: 0.0001, Train: 100.00%, Valid: 72.00% Test: 73.20%\n",
            "Epoch: 57, Loss: 0.0001, Train: 100.00%, Valid: 72.20% Test: 73.60%\n",
            "Epoch: 58, Loss: 0.0001, Train: 100.00%, Valid: 72.20% Test: 73.50%\n",
            "Epoch: 59, Loss: 0.0001, Train: 100.00%, Valid: 72.20% Test: 73.40%\n",
            "Epoch: 60, Loss: 0.0001, Train: 100.00%, Valid: 72.20% Test: 73.50%\n",
            "Epoch: 61, Loss: 0.0007, Train: 100.00%, Valid: 72.20% Test: 73.30%\n",
            "Epoch: 62, Loss: 0.0000, Train: 100.00%, Valid: 72.20% Test: 73.60%\n",
            "Epoch: 63, Loss: 0.0001, Train: 100.00%, Valid: 72.20% Test: 73.70%\n",
            "Epoch: 64, Loss: 0.0001, Train: 100.00%, Valid: 72.20% Test: 73.50%\n",
            "Epoch: 65, Loss: 0.0001, Train: 100.00%, Valid: 72.20% Test: 73.40%\n",
            "Epoch: 66, Loss: 0.0001, Train: 100.00%, Valid: 72.20% Test: 73.40%\n",
            "Epoch: 67, Loss: 0.0013, Train: 100.00%, Valid: 72.20% Test: 73.50%\n",
            "Epoch: 68, Loss: 0.0001, Train: 100.00%, Valid: 72.20% Test: 73.50%\n",
            "Epoch: 69, Loss: 0.0001, Train: 100.00%, Valid: 72.20% Test: 73.30%\n",
            "Epoch: 70, Loss: 0.0002, Train: 100.00%, Valid: 72.20% Test: 73.40%\n",
            "Epoch: 71, Loss: 0.0001, Train: 100.00%, Valid: 72.20% Test: 73.30%\n",
            "Epoch: 72, Loss: 0.0000, Train: 100.00%, Valid: 72.20% Test: 73.40%\n",
            "Epoch: 73, Loss: 0.0005, Train: 100.00%, Valid: 72.20% Test: 73.70%\n",
            "Epoch: 74, Loss: 0.0000, Train: 100.00%, Valid: 72.20% Test: 73.70%\n",
            "Epoch: 75, Loss: 0.0003, Train: 100.00%, Valid: 72.20% Test: 73.70%\n",
            "Epoch: 76, Loss: 0.0025, Train: 100.00%, Valid: 72.20% Test: 73.70%\n",
            "Epoch: 77, Loss: 0.0005, Train: 100.00%, Valid: 72.20% Test: 73.70%\n",
            "Epoch: 78, Loss: 0.0001, Train: 100.00%, Valid: 72.20% Test: 73.70%\n",
            "Epoch: 79, Loss: 0.0001, Train: 100.00%, Valid: 72.00% Test: 73.60%\n",
            "Epoch: 80, Loss: 0.0002, Train: 100.00%, Valid: 71.80% Test: 73.80%\n",
            "Epoch: 81, Loss: 0.0004, Train: 100.00%, Valid: 72.20% Test: 73.60%\n",
            "Epoch: 82, Loss: 0.0001, Train: 100.00%, Valid: 72.40% Test: 73.60%\n",
            "Epoch: 83, Loss: 0.0002, Train: 100.00%, Valid: 72.60% Test: 73.70%\n",
            "Epoch: 84, Loss: 0.0000, Train: 100.00%, Valid: 72.40% Test: 73.70%\n",
            "Epoch: 85, Loss: 0.0000, Train: 100.00%, Valid: 72.00% Test: 73.70%\n",
            "Epoch: 86, Loss: 0.0001, Train: 100.00%, Valid: 72.20% Test: 73.80%\n",
            "Epoch: 87, Loss: 0.0000, Train: 100.00%, Valid: 72.00% Test: 73.60%\n",
            "Epoch: 88, Loss: 0.0000, Train: 100.00%, Valid: 72.00% Test: 73.80%\n",
            "Epoch: 89, Loss: 0.0001, Train: 100.00%, Valid: 72.20% Test: 73.90%\n",
            "Epoch: 90, Loss: 0.0001, Train: 100.00%, Valid: 72.00% Test: 73.90%\n",
            "Epoch: 91, Loss: 0.0001, Train: 100.00%, Valid: 72.20% Test: 73.80%\n",
            "Epoch: 92, Loss: 0.0002, Train: 100.00%, Valid: 72.20% Test: 73.70%\n",
            "Epoch: 93, Loss: 0.0001, Train: 100.00%, Valid: 72.20% Test: 73.80%\n",
            "Epoch: 94, Loss: 0.0000, Train: 100.00%, Valid: 72.20% Test: 73.80%\n",
            "Epoch: 95, Loss: 0.0001, Train: 100.00%, Valid: 72.20% Test: 73.80%\n",
            "Epoch: 96, Loss: 0.0002, Train: 100.00%, Valid: 72.20% Test: 73.70%\n",
            "Epoch: 97, Loss: 0.0001, Train: 100.00%, Valid: 72.60% Test: 73.70%\n",
            "Epoch: 98, Loss: 0.0001, Train: 100.00%, Valid: 72.60% Test: 73.60%\n",
            "Epoch: 99, Loss: 0.0001, Train: 100.00%, Valid: 72.60% Test: 73.50%\n",
            "Epoch: 100, Loss: 0.0002, Train: 100.00%, Valid: 72.60% Test: 73.80%\n",
            "Epoch: 101, Loss: 0.0001, Train: 100.00%, Valid: 72.60% Test: 73.80%\n",
            "Epoch: 102, Loss: 0.0000, Train: 100.00%, Valid: 72.60% Test: 73.60%\n",
            "Epoch: 103, Loss: 0.0000, Train: 100.00%, Valid: 72.60% Test: 73.80%\n",
            "Epoch: 104, Loss: 0.0002, Train: 100.00%, Valid: 72.60% Test: 73.80%\n",
            "Epoch: 105, Loss: 0.0000, Train: 100.00%, Valid: 72.60% Test: 73.60%\n",
            "Epoch: 106, Loss: 0.0001, Train: 100.00%, Valid: 72.60% Test: 73.70%\n",
            "Epoch: 107, Loss: 0.0005, Train: 100.00%, Valid: 72.60% Test: 73.90%\n",
            "Epoch: 108, Loss: 0.0000, Train: 100.00%, Valid: 72.60% Test: 73.60%\n",
            "Epoch: 109, Loss: 0.0006, Train: 100.00%, Valid: 72.40% Test: 73.70%\n",
            "Epoch: 110, Loss: 0.0000, Train: 100.00%, Valid: 72.20% Test: 73.90%\n",
            "Epoch: 111, Loss: 0.0007, Train: 100.00%, Valid: 72.20% Test: 73.80%\n",
            "Epoch: 112, Loss: 0.0000, Train: 100.00%, Valid: 72.00% Test: 73.90%\n",
            "Epoch: 113, Loss: 0.0002, Train: 100.00%, Valid: 72.20% Test: 73.80%\n",
            "Epoch: 114, Loss: 0.0000, Train: 100.00%, Valid: 72.00% Test: 73.90%\n",
            "Epoch: 115, Loss: 0.0005, Train: 100.00%, Valid: 72.00% Test: 74.00%\n",
            "Epoch: 116, Loss: 0.0007, Train: 100.00%, Valid: 72.00% Test: 74.00%\n",
            "Epoch: 117, Loss: 0.0000, Train: 100.00%, Valid: 72.00% Test: 74.00%\n",
            "Epoch: 118, Loss: 0.0000, Train: 100.00%, Valid: 72.00% Test: 74.00%\n",
            "Epoch: 119, Loss: 0.0002, Train: 100.00%, Valid: 72.20% Test: 74.00%\n",
            "Epoch: 120, Loss: 0.0001, Train: 100.00%, Valid: 72.20% Test: 74.00%\n",
            "Epoch: 121, Loss: 0.0000, Train: 100.00%, Valid: 72.20% Test: 74.00%\n",
            "Epoch: 122, Loss: 0.0000, Train: 100.00%, Valid: 72.00% Test: 73.90%\n",
            "Epoch: 123, Loss: 0.0000, Train: 100.00%, Valid: 72.20% Test: 73.80%\n",
            "Epoch: 124, Loss: 0.0012, Train: 100.00%, Valid: 72.00% Test: 73.90%\n",
            "Epoch: 125, Loss: 0.0000, Train: 100.00%, Valid: 71.80% Test: 73.90%\n",
            "Epoch: 126, Loss: 0.0008, Train: 100.00%, Valid: 72.00% Test: 73.80%\n",
            "Epoch: 127, Loss: 0.0000, Train: 100.00%, Valid: 71.80% Test: 73.90%\n",
            "Epoch: 128, Loss: 0.0001, Train: 100.00%, Valid: 72.00% Test: 73.80%\n",
            "Epoch: 129, Loss: 0.0001, Train: 100.00%, Valid: 72.00% Test: 73.80%\n",
            "Epoch: 130, Loss: 0.0003, Train: 100.00%, Valid: 71.80% Test: 73.90%\n",
            "Epoch: 131, Loss: 0.0002, Train: 100.00%, Valid: 72.00% Test: 73.80%\n",
            "Epoch: 132, Loss: 0.0000, Train: 100.00%, Valid: 71.80% Test: 73.50%\n",
            "Epoch: 133, Loss: 0.0000, Train: 100.00%, Valid: 71.80% Test: 73.70%\n",
            "Epoch: 134, Loss: 0.0004, Train: 100.00%, Valid: 71.60% Test: 73.40%\n",
            "Epoch: 135, Loss: 0.0001, Train: 100.00%, Valid: 70.80% Test: 73.40%\n",
            "Epoch: 136, Loss: 0.0000, Train: 100.00%, Valid: 71.60% Test: 73.50%\n",
            "Epoch: 137, Loss: 0.0000, Train: 100.00%, Valid: 70.60% Test: 73.30%\n",
            "Epoch: 138, Loss: 0.0001, Train: 100.00%, Valid: 70.60% Test: 73.30%\n",
            "Epoch: 139, Loss: 0.0002, Train: 100.00%, Valid: 71.00% Test: 73.20%\n",
            "Epoch: 140, Loss: 0.0000, Train: 100.00%, Valid: 70.40% Test: 73.30%\n",
            "Epoch: 141, Loss: 0.0000, Train: 100.00%, Valid: 70.40% Test: 73.20%\n",
            "Epoch: 142, Loss: 0.0000, Train: 100.00%, Valid: 70.40% Test: 73.10%\n",
            "Epoch: 143, Loss: 0.0002, Train: 100.00%, Valid: 70.60% Test: 73.20%\n",
            "Epoch: 144, Loss: 0.0001, Train: 100.00%, Valid: 71.20% Test: 73.20%\n",
            "Epoch: 145, Loss: 0.0000, Train: 100.00%, Valid: 71.40% Test: 73.30%\n",
            "Epoch: 146, Loss: 0.0002, Train: 100.00%, Valid: 71.80% Test: 73.30%\n",
            "Epoch: 147, Loss: 0.0001, Train: 100.00%, Valid: 71.40% Test: 73.30%\n",
            "Epoch: 148, Loss: 0.0005, Train: 100.00%, Valid: 71.20% Test: 73.40%\n",
            "Epoch: 149, Loss: 0.0001, Train: 100.00%, Valid: 71.60% Test: 73.30%\n",
            "Epoch: 150, Loss: 0.0001, Train: 100.00%, Valid: 71.80% Test: 73.30%\n",
            "Best model: Train: 100.00%, Valid: 73.20% Test: 74.20%\n"
          ]
        }
      ],
      "source": [
        "model = GNN(graph_train.num_node_features, args['hidden_size'], graph_train.num_node_labels, args).to(args['device'])\n",
        "optimizer = torch.optim.Adam(model.parameters(), lr=args['lr'])\n",
        "bisection_best_model, bisection_accs = train(graphs, [graph_train, graph_val, graph_test], args, model, optimizer, mode=\"community\")\n",
        "train_acc, val_acc, test_acc = test([graph_train, graph_val, graph_test], bisection_best_model)\n",
        "print('Best model:',\n",
        "      f'Train: {100 * train_acc:.2f}%, '\n",
        "      f'Valid: {100 * val_acc:.2f}% '\n",
        "      f'Test: {100 * test_acc:.2f}%')"
      ]
    },
    {
      "cell_type": "markdown",
      "metadata": {
        "id": "5PROPwoOVcJy"
      },
      "source": [
        "## Greedy Preprocess"
      ]
    },
    {
      "cell_type": "code",
      "execution_count": 26,
      "metadata": {
        "id": "h3DVamWqVT92",
        "colab": {
          "base_uri": "https://localhost:8080/"
        },
        "outputId": "78b788b4-061b-4465-f0d0-5b3b3d03ee8a"
      },
      "outputs": [
        {
          "output_type": "stream",
          "name": "stdout",
          "text": [
            "Index fields: test_mask ignored.\n",
            "Index fields: val_mask ignored.\n",
            "Index fields: train_mask ignored.\n",
            "Partition the graph in to 20 communities\n",
            "Each community has 121 nodes in average\n",
            "Each community has 222 edges in average\n"
          ]
        }
      ],
      "source": [
        "graphs_train, graphs_val, graphs_test = \\\n",
        "    GraphDataset.pyg_to_graphs(pyg_dataset, verbose=True, fixed_split=True)\n",
        "\n",
        "graph_train = graphs_train[0]\n",
        "graph_val = graphs_val[0]\n",
        "graph_test = graphs_test[0]\n",
        "graphs = preprocess(graph_train.G, graph_train.node_label_index, method=\"greedy\")\n",
        "print(\"Partition the graph in to {} communities\".format(len(graphs)))\n",
        "avg_num_nodes = 0\n",
        "avg_num_edges = 0\n",
        "for graph in graphs:\n",
        "    avg_num_nodes += graph.num_nodes\n",
        "    avg_num_edges += graph.num_edges\n",
        "avg_num_nodes = int(avg_num_nodes / len(graphs))\n",
        "avg_num_edges = int(avg_num_edges / len(graphs))\n",
        "print(\"Each community has {} nodes in average\".format(avg_num_nodes))\n",
        "print(\"Each community has {} edges in average\".format(avg_num_edges))"
      ]
    },
    {
      "cell_type": "markdown",
      "metadata": {
        "id": "93pR_-kxVgma"
      },
      "source": [
        "## Greedy Training"
      ]
    },
    {
      "cell_type": "code",
      "execution_count": 27,
      "metadata": {
        "id": "lQgQY-jPVd_U",
        "colab": {
          "base_uri": "https://localhost:8080/"
        },
        "outputId": "65265842-04e3-4933-f0d4-d49cfdff2637"
      },
      "outputs": [
        {
          "output_type": "stream",
          "name": "stdout",
          "text": [
            "Epoch: 01, Loss: 2.1490, Train: 18.57%, Valid: 17.20% Test: 15.00%\n",
            "Epoch: 02, Loss: 2.4786, Train: 15.00%, Valid: 12.20% Test: 9.90%\n",
            "Epoch: 03, Loss: 2.1033, Train: 14.29%, Valid: 11.40% Test: 10.30%\n",
            "Epoch: 04, Loss: 2.8764, Train: 15.71%, Valid: 11.20% Test: 10.30%\n",
            "Epoch: 05, Loss: 2.3939, Train: 16.43%, Valid: 11.20% Test: 10.20%\n",
            "Epoch: 06, Loss: 1.8844, Train: 20.00%, Valid: 11.40% Test: 9.80%\n",
            "Epoch: 07, Loss: 1.0651, Train: 20.00%, Valid: 10.80% Test: 10.50%\n",
            "Epoch: 08, Loss: 2.5194, Train: 20.00%, Valid: 11.60% Test: 12.20%\n",
            "Epoch: 09, Loss: 2.6902, Train: 16.43%, Valid: 13.00% Test: 14.90%\n",
            "Epoch: 10, Loss: 3.4291, Train: 19.29%, Valid: 16.60% Test: 18.60%\n",
            "Epoch: 11, Loss: 0.1227, Train: 20.00%, Valid: 20.20% Test: 19.80%\n",
            "Epoch: 12, Loss: 1.9983, Train: 25.71%, Valid: 21.60% Test: 21.50%\n",
            "Epoch: 13, Loss: 1.4808, Train: 26.43%, Valid: 21.60% Test: 21.60%\n",
            "Epoch: 14, Loss: 2.5617, Train: 26.43%, Valid: 22.20% Test: 22.60%\n",
            "Epoch: 15, Loss: 2.0356, Train: 30.00%, Valid: 21.40% Test: 22.50%\n",
            "Epoch: 16, Loss: 0.4840, Train: 36.43%, Valid: 22.20% Test: 24.60%\n",
            "Epoch: 17, Loss: 2.2662, Train: 42.14%, Valid: 21.40% Test: 25.00%\n",
            "Epoch: 18, Loss: 1.2630, Train: 42.14%, Valid: 21.40% Test: 25.00%\n",
            "Epoch: 19, Loss: 1.8750, Train: 42.14%, Valid: 23.00% Test: 26.70%\n",
            "Epoch: 20, Loss: 1.5618, Train: 46.43%, Valid: 23.60% Test: 27.20%\n",
            "Epoch: 21, Loss: 1.6735, Train: 49.29%, Valid: 24.80% Test: 27.30%\n",
            "Epoch: 22, Loss: 1.9927, Train: 50.71%, Valid: 25.60% Test: 27.90%\n",
            "Epoch: 23, Loss: 1.2866, Train: 50.71%, Valid: 26.60% Test: 28.50%\n",
            "Epoch: 24, Loss: 0.7215, Train: 51.43%, Valid: 26.60% Test: 29.70%\n",
            "Epoch: 25, Loss: 0.2762, Train: 48.57%, Valid: 26.20% Test: 29.90%\n",
            "Epoch: 26, Loss: 0.7091, Train: 46.43%, Valid: 24.00% Test: 27.70%\n",
            "Epoch: 27, Loss: 1.8541, Train: 46.43%, Valid: 24.20% Test: 26.50%\n",
            "Epoch: 28, Loss: 0.3933, Train: 44.29%, Valid: 21.60% Test: 24.30%\n",
            "Epoch: 29, Loss: 2.6417, Train: 43.57%, Valid: 22.20% Test: 23.50%\n",
            "Epoch: 30, Loss: 2.5405, Train: 44.29%, Valid: 22.00% Test: 23.70%\n",
            "Epoch: 31, Loss: 0.6849, Train: 43.57%, Valid: 21.00% Test: 23.20%\n",
            "Epoch: 32, Loss: 1.8898, Train: 45.00%, Valid: 20.20% Test: 22.30%\n",
            "Epoch: 33, Loss: 1.8043, Train: 44.29%, Valid: 19.60% Test: 21.60%\n",
            "Epoch: 34, Loss: 0.3289, Train: 45.71%, Valid: 20.60% Test: 22.80%\n",
            "Epoch: 35, Loss: 0.5485, Train: 44.29%, Valid: 19.00% Test: 21.30%\n",
            "Epoch: 36, Loss: 0.5717, Train: 45.71%, Valid: 19.40% Test: 20.90%\n",
            "Epoch: 37, Loss: 1.6830, Train: 47.14%, Valid: 20.20% Test: 21.90%\n",
            "Epoch: 38, Loss: 1.5820, Train: 50.00%, Valid: 21.80% Test: 22.70%\n",
            "Epoch: 39, Loss: 0.8972, Train: 54.29%, Valid: 21.20% Test: 23.80%\n",
            "Epoch: 40, Loss: 0.0848, Train: 55.71%, Valid: 22.40% Test: 22.90%\n",
            "Epoch: 41, Loss: 2.2101, Train: 57.14%, Valid: 22.20% Test: 24.00%\n",
            "Epoch: 42, Loss: 1.3145, Train: 61.43%, Valid: 20.60% Test: 23.30%\n",
            "Epoch: 43, Loss: 0.7797, Train: 63.57%, Valid: 21.40% Test: 24.00%\n",
            "Epoch: 44, Loss: 0.1900, Train: 62.14%, Valid: 19.60% Test: 22.30%\n",
            "Epoch: 45, Loss: 0.1238, Train: 61.43%, Valid: 18.40% Test: 21.10%\n",
            "Epoch: 46, Loss: 0.0554, Train: 62.14%, Valid: 19.40% Test: 22.10%\n",
            "Epoch: 47, Loss: 0.9096, Train: 64.29%, Valid: 19.00% Test: 22.10%\n",
            "Epoch: 48, Loss: 0.2438, Train: 65.71%, Valid: 19.80% Test: 22.10%\n",
            "Epoch: 49, Loss: 3.5502, Train: 68.57%, Valid: 21.20% Test: 23.60%\n",
            "Epoch: 50, Loss: 0.0421, Train: 67.86%, Valid: 22.00% Test: 23.10%\n",
            "Epoch: 51, Loss: 2.5512, Train: 67.86%, Valid: 23.00% Test: 23.70%\n",
            "Epoch: 52, Loss: 0.4656, Train: 68.57%, Valid: 22.20% Test: 23.90%\n",
            "Epoch: 53, Loss: 0.3373, Train: 70.00%, Valid: 22.20% Test: 24.10%\n",
            "Epoch: 54, Loss: 0.0186, Train: 70.71%, Valid: 21.40% Test: 23.80%\n",
            "Epoch: 55, Loss: 0.5825, Train: 70.71%, Valid: 21.80% Test: 23.80%\n",
            "Epoch: 56, Loss: 0.2332, Train: 70.71%, Valid: 21.40% Test: 23.50%\n",
            "Epoch: 57, Loss: 0.0707, Train: 72.14%, Valid: 21.80% Test: 23.80%\n",
            "Epoch: 58, Loss: 0.2849, Train: 72.14%, Valid: 21.80% Test: 23.00%\n",
            "Epoch: 59, Loss: 0.0453, Train: 72.86%, Valid: 21.40% Test: 22.40%\n",
            "Epoch: 60, Loss: 0.0632, Train: 73.57%, Valid: 21.80% Test: 22.00%\n",
            "Epoch: 61, Loss: 0.2786, Train: 73.57%, Valid: 21.00% Test: 21.30%\n",
            "Epoch: 62, Loss: 0.0409, Train: 73.57%, Valid: 22.20% Test: 21.80%\n",
            "Epoch: 63, Loss: 0.1613, Train: 74.29%, Valid: 22.40% Test: 23.00%\n",
            "Epoch: 64, Loss: 1.8514, Train: 75.00%, Valid: 22.60% Test: 24.20%\n",
            "Epoch: 65, Loss: 0.0773, Train: 75.71%, Valid: 23.20% Test: 24.60%\n",
            "Epoch: 66, Loss: 0.0281, Train: 74.29%, Valid: 22.80% Test: 24.20%\n",
            "Epoch: 67, Loss: 0.3920, Train: 75.00%, Valid: 22.80% Test: 24.80%\n",
            "Epoch: 68, Loss: 0.3694, Train: 77.14%, Valid: 22.00% Test: 23.60%\n",
            "Epoch: 69, Loss: 1.2958, Train: 77.86%, Valid: 23.00% Test: 24.00%\n",
            "Epoch: 70, Loss: 0.0419, Train: 80.00%, Valid: 24.40% Test: 24.80%\n",
            "Epoch: 71, Loss: 0.0242, Train: 82.14%, Valid: 25.20% Test: 26.60%\n",
            "Epoch: 72, Loss: 1.3297, Train: 83.57%, Valid: 25.80% Test: 27.10%\n",
            "Epoch: 73, Loss: 0.1309, Train: 84.29%, Valid: 26.40% Test: 28.10%\n",
            "Epoch: 74, Loss: 0.8318, Train: 85.71%, Valid: 26.80% Test: 28.20%\n",
            "Epoch: 75, Loss: 0.1776, Train: 85.00%, Valid: 26.60% Test: 27.40%\n",
            "Epoch: 76, Loss: 0.1391, Train: 86.43%, Valid: 26.00% Test: 26.60%\n",
            "Epoch: 77, Loss: 0.0057, Train: 86.43%, Valid: 26.40% Test: 26.60%\n",
            "Epoch: 78, Loss: 0.3198, Train: 87.14%, Valid: 25.20% Test: 27.50%\n",
            "Epoch: 79, Loss: 0.0002, Train: 87.86%, Valid: 24.60% Test: 27.10%\n",
            "Epoch: 80, Loss: 0.1230, Train: 87.86%, Valid: 25.60% Test: 27.20%\n",
            "Epoch: 81, Loss: 0.0020, Train: 88.57%, Valid: 25.00% Test: 26.50%\n",
            "Epoch: 82, Loss: 0.1106, Train: 87.86%, Valid: 25.00% Test: 27.00%\n",
            "Epoch: 83, Loss: 0.0003, Train: 87.14%, Valid: 26.20% Test: 27.50%\n",
            "Epoch: 84, Loss: 0.0105, Train: 87.86%, Valid: 25.80% Test: 27.50%\n",
            "Epoch: 85, Loss: 0.0890, Train: 87.86%, Valid: 24.40% Test: 26.30%\n",
            "Epoch: 86, Loss: 0.1089, Train: 87.86%, Valid: 24.40% Test: 26.00%\n",
            "Epoch: 87, Loss: 0.0958, Train: 87.86%, Valid: 24.60% Test: 25.30%\n",
            "Epoch: 88, Loss: 0.0176, Train: 87.14%, Valid: 24.60% Test: 25.30%\n",
            "Epoch: 89, Loss: 0.0038, Train: 87.86%, Valid: 24.60% Test: 25.20%\n",
            "Epoch: 90, Loss: 0.0380, Train: 87.86%, Valid: 25.40% Test: 26.00%\n",
            "Epoch: 91, Loss: 0.1216, Train: 87.86%, Valid: 25.60% Test: 26.50%\n",
            "Epoch: 92, Loss: 0.4670, Train: 87.86%, Valid: 25.00% Test: 26.20%\n",
            "Epoch: 93, Loss: 0.6047, Train: 87.14%, Valid: 25.60% Test: 26.90%\n",
            "Epoch: 94, Loss: 0.0159, Train: 87.14%, Valid: 24.80% Test: 26.10%\n",
            "Epoch: 95, Loss: 0.0001, Train: 87.14%, Valid: 25.40% Test: 26.00%\n",
            "Epoch: 96, Loss: 0.0016, Train: 87.14%, Valid: 24.80% Test: 26.40%\n",
            "Epoch: 97, Loss: 0.0563, Train: 87.14%, Valid: 26.20% Test: 26.00%\n",
            "Epoch: 98, Loss: 0.3746, Train: 87.14%, Valid: 25.60% Test: 26.20%\n",
            "Epoch: 99, Loss: 0.3983, Train: 87.14%, Valid: 26.40% Test: 26.50%\n",
            "Epoch: 100, Loss: 0.2596, Train: 87.14%, Valid: 26.40% Test: 26.70%\n",
            "Epoch: 101, Loss: 0.0660, Train: 87.14%, Valid: 26.00% Test: 26.60%\n",
            "Epoch: 102, Loss: 0.2418, Train: 87.86%, Valid: 25.40% Test: 27.30%\n",
            "Epoch: 103, Loss: 0.4143, Train: 87.86%, Valid: 26.40% Test: 27.30%\n",
            "Epoch: 104, Loss: 0.0015, Train: 87.14%, Valid: 26.40% Test: 27.70%\n",
            "Epoch: 105, Loss: 0.0009, Train: 87.14%, Valid: 26.60% Test: 28.10%\n",
            "Epoch: 106, Loss: 0.0044, Train: 87.14%, Valid: 26.00% Test: 28.60%\n",
            "Epoch: 107, Loss: 0.0000, Train: 87.14%, Valid: 25.80% Test: 28.10%\n",
            "Epoch: 108, Loss: 0.0108, Train: 86.43%, Valid: 25.20% Test: 26.10%\n",
            "Epoch: 109, Loss: 0.0031, Train: 87.14%, Valid: 25.40% Test: 28.10%\n",
            "Epoch: 110, Loss: 0.0019, Train: 87.14%, Valid: 25.60% Test: 28.20%\n",
            "Epoch: 111, Loss: 0.0001, Train: 86.43%, Valid: 24.60% Test: 26.20%\n",
            "Epoch: 112, Loss: 0.1320, Train: 86.43%, Valid: 24.20% Test: 25.70%\n",
            "Epoch: 113, Loss: 0.0025, Train: 87.14%, Valid: 23.60% Test: 24.30%\n",
            "Epoch: 114, Loss: 0.0062, Train: 86.43%, Valid: 23.80% Test: 23.90%\n",
            "Epoch: 115, Loss: 0.0507, Train: 86.43%, Valid: 23.20% Test: 24.30%\n",
            "Epoch: 116, Loss: 0.0471, Train: 87.14%, Valid: 22.80% Test: 24.10%\n",
            "Epoch: 117, Loss: 0.3639, Train: 87.86%, Valid: 22.80% Test: 25.90%\n",
            "Epoch: 118, Loss: 0.0143, Train: 87.86%, Valid: 23.60% Test: 25.90%\n",
            "Epoch: 119, Loss: 0.1115, Train: 87.14%, Valid: 23.20% Test: 26.40%\n",
            "Epoch: 120, Loss: 0.0028, Train: 87.14%, Valid: 25.00% Test: 27.80%\n",
            "Epoch: 121, Loss: 0.0061, Train: 87.14%, Valid: 25.00% Test: 28.00%\n",
            "Epoch: 122, Loss: 0.0993, Train: 86.43%, Valid: 25.40% Test: 28.70%\n",
            "Epoch: 123, Loss: 0.0312, Train: 87.14%, Valid: 25.80% Test: 29.00%\n",
            "Epoch: 124, Loss: 0.0786, Train: 87.14%, Valid: 26.40% Test: 29.20%\n",
            "Epoch: 125, Loss: 0.0375, Train: 87.14%, Valid: 26.80% Test: 29.20%\n",
            "Epoch: 126, Loss: 0.0477, Train: 87.86%, Valid: 27.40% Test: 29.20%\n",
            "Epoch: 127, Loss: 0.0347, Train: 87.86%, Valid: 26.80% Test: 29.70%\n",
            "Epoch: 128, Loss: 0.0008, Train: 87.86%, Valid: 27.80% Test: 29.20%\n",
            "Epoch: 129, Loss: 0.0102, Train: 87.14%, Valid: 27.60% Test: 29.60%\n",
            "Epoch: 130, Loss: 0.0094, Train: 87.14%, Valid: 28.20% Test: 29.50%\n",
            "Epoch: 131, Loss: 0.0034, Train: 86.43%, Valid: 29.00% Test: 29.70%\n",
            "Epoch: 132, Loss: 0.6465, Train: 87.86%, Valid: 29.20% Test: 29.80%\n",
            "Epoch: 133, Loss: 0.0227, Train: 88.57%, Valid: 28.80% Test: 30.10%\n",
            "Epoch: 134, Loss: 0.0002, Train: 88.57%, Valid: 28.80% Test: 30.70%\n",
            "Epoch: 135, Loss: 0.0036, Train: 89.29%, Valid: 27.80% Test: 29.70%\n",
            "Epoch: 136, Loss: 0.0979, Train: 89.29%, Valid: 27.60% Test: 29.80%\n",
            "Epoch: 137, Loss: 0.2617, Train: 90.00%, Valid: 27.40% Test: 30.60%\n",
            "Epoch: 138, Loss: 0.1984, Train: 90.00%, Valid: 27.40% Test: 31.10%\n",
            "Epoch: 139, Loss: 0.0335, Train: 89.29%, Valid: 27.60% Test: 30.40%\n",
            "Epoch: 140, Loss: 0.2096, Train: 89.29%, Valid: 27.60% Test: 30.50%\n",
            "Epoch: 141, Loss: 0.0019, Train: 89.29%, Valid: 28.20% Test: 30.20%\n",
            "Epoch: 142, Loss: 0.0216, Train: 89.29%, Valid: 28.00% Test: 30.20%\n",
            "Epoch: 143, Loss: 0.1433, Train: 89.29%, Valid: 28.00% Test: 30.30%\n",
            "Epoch: 144, Loss: 0.0212, Train: 89.29%, Valid: 28.00% Test: 29.90%\n",
            "Epoch: 145, Loss: 0.1373, Train: 89.29%, Valid: 28.40% Test: 30.00%\n",
            "Epoch: 146, Loss: 0.0846, Train: 89.29%, Valid: 27.80% Test: 30.00%\n",
            "Epoch: 147, Loss: 0.0146, Train: 89.29%, Valid: 28.40% Test: 29.90%\n",
            "Epoch: 148, Loss: 0.0183, Train: 89.29%, Valid: 28.40% Test: 29.70%\n",
            "Epoch: 149, Loss: 0.1058, Train: 89.29%, Valid: 28.60% Test: 30.40%\n",
            "Epoch: 150, Loss: 0.0199, Train: 89.29%, Valid: 28.40% Test: 30.30%\n",
            "Best model: Train: 87.86%, Valid: 29.20% Test: 29.80%\n"
          ]
        }
      ],
      "source": [
        "model = GNN(graph_train.num_node_features, args['hidden_size'], graph_train.num_node_labels, args).to(args['device'])\n",
        "optimizer = torch.optim.Adam(model.parameters(), lr=args['lr'])\n",
        "greedy_best_model, greedy_accs = train(graphs, [graph_train, graph_val, graph_test], args, model, optimizer, mode=\"community\")\n",
        "train_acc, val_acc, test_acc = test([graph_train, graph_val, graph_test], greedy_best_model)\n",
        "print('Best model:',\n",
        "      f'Train: {100 * train_acc:.2f}%, '\n",
        "      f'Valid: {100 * val_acc:.2f}% '\n",
        "      f'Test: {100 * test_acc:.2f}%')"
      ]
    },
    {
      "cell_type": "markdown",
      "metadata": {
        "id": "D5edKKT6Vk1C"
      },
      "source": [
        "## Full-Batch Training"
      ]
    },
    {
      "cell_type": "code",
      "execution_count": 28,
      "metadata": {
        "id": "N5tIXxC8ViFD",
        "colab": {
          "base_uri": "https://localhost:8080/"
        },
        "outputId": "c75b3be8-8ca0-41cf-cddb-447606e4bc5b"
      },
      "outputs": [
        {
          "output_type": "stream",
          "name": "stdout",
          "text": [
            "Index fields: test_mask ignored.\n",
            "Index fields: val_mask ignored.\n",
            "Index fields: train_mask ignored.\n",
            "Epoch: 01, Loss: 2.1153, Train: 42.14%, Valid: 9.20% Test: 10.90%\n",
            "Epoch: 02, Loss: 1.2590, Train: 92.86%, Valid: 28.20% Test: 28.60%\n",
            "Epoch: 03, Loss: 0.7959, Train: 100.00%, Valid: 51.00% Test: 52.10%\n",
            "Epoch: 04, Loss: 0.3934, Train: 100.00%, Valid: 62.00% Test: 63.40%\n",
            "Epoch: 05, Loss: 0.2325, Train: 100.00%, Valid: 67.20% Test: 67.70%\n",
            "Epoch: 06, Loss: 0.1077, Train: 100.00%, Valid: 69.80% Test: 69.90%\n",
            "Epoch: 07, Loss: 0.0552, Train: 100.00%, Valid: 71.00% Test: 71.00%\n",
            "Epoch: 08, Loss: 0.0285, Train: 100.00%, Valid: 71.80% Test: 72.20%\n",
            "Epoch: 09, Loss: 0.0175, Train: 100.00%, Valid: 71.20% Test: 72.50%\n",
            "Epoch: 10, Loss: 0.0105, Train: 100.00%, Valid: 70.20% Test: 72.80%\n",
            "Epoch: 11, Loss: 0.0049, Train: 100.00%, Valid: 70.60% Test: 72.70%\n",
            "Epoch: 12, Loss: 0.0045, Train: 100.00%, Valid: 70.40% Test: 73.20%\n",
            "Epoch: 13, Loss: 0.0016, Train: 100.00%, Valid: 71.00% Test: 73.20%\n",
            "Epoch: 14, Loss: 0.0024, Train: 100.00%, Valid: 71.20% Test: 73.50%\n",
            "Epoch: 15, Loss: 0.0014, Train: 100.00%, Valid: 71.00% Test: 73.20%\n",
            "Epoch: 16, Loss: 0.0032, Train: 100.00%, Valid: 71.40% Test: 73.00%\n",
            "Epoch: 17, Loss: 0.0009, Train: 100.00%, Valid: 71.60% Test: 73.20%\n",
            "Epoch: 18, Loss: 0.0016, Train: 100.00%, Valid: 71.60% Test: 73.50%\n",
            "Epoch: 19, Loss: 0.0004, Train: 100.00%, Valid: 71.40% Test: 73.50%\n",
            "Epoch: 20, Loss: 0.0002, Train: 100.00%, Valid: 71.60% Test: 73.50%\n",
            "Epoch: 21, Loss: 0.0008, Train: 100.00%, Valid: 71.60% Test: 73.50%\n",
            "Epoch: 22, Loss: 0.0002, Train: 100.00%, Valid: 71.40% Test: 73.30%\n",
            "Epoch: 23, Loss: 0.0001, Train: 100.00%, Valid: 71.20% Test: 73.20%\n",
            "Epoch: 24, Loss: 0.0003, Train: 100.00%, Valid: 71.20% Test: 73.10%\n",
            "Epoch: 25, Loss: 0.0000, Train: 100.00%, Valid: 70.60% Test: 73.10%\n",
            "Epoch: 26, Loss: 0.0007, Train: 100.00%, Valid: 70.60% Test: 73.10%\n",
            "Epoch: 27, Loss: 0.0003, Train: 100.00%, Valid: 70.60% Test: 73.00%\n",
            "Epoch: 28, Loss: 0.0001, Train: 100.00%, Valid: 70.60% Test: 73.00%\n",
            "Epoch: 29, Loss: 0.0000, Train: 100.00%, Valid: 70.60% Test: 72.80%\n",
            "Epoch: 30, Loss: 0.0001, Train: 100.00%, Valid: 70.60% Test: 73.00%\n",
            "Epoch: 31, Loss: 0.0002, Train: 100.00%, Valid: 70.40% Test: 73.00%\n",
            "Epoch: 32, Loss: 0.0004, Train: 100.00%, Valid: 70.40% Test: 72.80%\n",
            "Epoch: 33, Loss: 0.0005, Train: 100.00%, Valid: 70.00% Test: 72.90%\n",
            "Epoch: 34, Loss: 0.0002, Train: 100.00%, Valid: 70.00% Test: 73.00%\n",
            "Epoch: 35, Loss: 0.0001, Train: 100.00%, Valid: 70.00% Test: 72.90%\n",
            "Epoch: 36, Loss: 0.0019, Train: 100.00%, Valid: 69.80% Test: 72.80%\n",
            "Epoch: 37, Loss: 0.0002, Train: 100.00%, Valid: 70.00% Test: 72.70%\n",
            "Epoch: 38, Loss: 0.0002, Train: 100.00%, Valid: 69.80% Test: 72.50%\n",
            "Epoch: 39, Loss: 0.0005, Train: 100.00%, Valid: 70.20% Test: 72.40%\n",
            "Epoch: 40, Loss: 0.0012, Train: 100.00%, Valid: 70.20% Test: 72.50%\n",
            "Epoch: 41, Loss: 0.0013, Train: 100.00%, Valid: 70.20% Test: 72.40%\n",
            "Epoch: 42, Loss: 0.0000, Train: 100.00%, Valid: 70.20% Test: 72.60%\n",
            "Epoch: 43, Loss: 0.0001, Train: 100.00%, Valid: 70.40% Test: 72.60%\n",
            "Epoch: 44, Loss: 0.0001, Train: 100.00%, Valid: 70.40% Test: 72.80%\n",
            "Epoch: 45, Loss: 0.0001, Train: 100.00%, Valid: 70.40% Test: 72.80%\n",
            "Epoch: 46, Loss: 0.0001, Train: 100.00%, Valid: 70.40% Test: 72.90%\n",
            "Epoch: 47, Loss: 0.0003, Train: 100.00%, Valid: 70.60% Test: 72.90%\n",
            "Epoch: 48, Loss: 0.0000, Train: 100.00%, Valid: 70.80% Test: 72.80%\n",
            "Epoch: 49, Loss: 0.0000, Train: 100.00%, Valid: 70.60% Test: 72.70%\n",
            "Epoch: 50, Loss: 0.0000, Train: 100.00%, Valid: 70.60% Test: 72.70%\n",
            "Epoch: 51, Loss: 0.0000, Train: 100.00%, Valid: 70.60% Test: 72.70%\n",
            "Epoch: 52, Loss: 0.0001, Train: 100.00%, Valid: 70.60% Test: 72.80%\n",
            "Epoch: 53, Loss: 0.0000, Train: 100.00%, Valid: 70.60% Test: 72.80%\n",
            "Epoch: 54, Loss: 0.0000, Train: 100.00%, Valid: 70.60% Test: 72.80%\n",
            "Epoch: 55, Loss: 0.0000, Train: 100.00%, Valid: 70.60% Test: 72.90%\n",
            "Epoch: 56, Loss: 0.0002, Train: 100.00%, Valid: 70.60% Test: 72.90%\n",
            "Epoch: 57, Loss: 0.0001, Train: 100.00%, Valid: 70.60% Test: 73.00%\n",
            "Epoch: 58, Loss: 0.0000, Train: 100.00%, Valid: 70.60% Test: 73.00%\n",
            "Epoch: 59, Loss: 0.0000, Train: 100.00%, Valid: 70.60% Test: 73.00%\n",
            "Epoch: 60, Loss: 0.0006, Train: 100.00%, Valid: 70.60% Test: 73.00%\n",
            "Epoch: 61, Loss: 0.0001, Train: 100.00%, Valid: 70.60% Test: 73.00%\n",
            "Epoch: 62, Loss: 0.0000, Train: 100.00%, Valid: 70.60% Test: 73.00%\n",
            "Epoch: 63, Loss: 0.0000, Train: 100.00%, Valid: 70.60% Test: 73.00%\n",
            "Epoch: 64, Loss: 0.0000, Train: 100.00%, Valid: 70.60% Test: 73.10%\n",
            "Epoch: 65, Loss: 0.0000, Train: 100.00%, Valid: 70.60% Test: 73.20%\n",
            "Epoch: 66, Loss: 0.0001, Train: 100.00%, Valid: 70.60% Test: 73.20%\n",
            "Epoch: 67, Loss: 0.0000, Train: 100.00%, Valid: 70.60% Test: 73.20%\n",
            "Epoch: 68, Loss: 0.0003, Train: 100.00%, Valid: 70.60% Test: 73.20%\n",
            "Epoch: 69, Loss: 0.0118, Train: 100.00%, Valid: 70.40% Test: 73.00%\n",
            "Epoch: 70, Loss: 0.0000, Train: 100.00%, Valid: 70.40% Test: 72.80%\n",
            "Epoch: 71, Loss: 0.0001, Train: 100.00%, Valid: 70.60% Test: 72.90%\n",
            "Epoch: 72, Loss: 0.0001, Train: 100.00%, Valid: 70.60% Test: 72.80%\n",
            "Epoch: 73, Loss: 0.0000, Train: 100.00%, Valid: 70.60% Test: 72.70%\n",
            "Epoch: 74, Loss: 0.0000, Train: 100.00%, Valid: 71.00% Test: 72.60%\n",
            "Epoch: 75, Loss: 0.0000, Train: 100.00%, Valid: 70.40% Test: 72.60%\n",
            "Epoch: 76, Loss: 0.0002, Train: 100.00%, Valid: 70.00% Test: 72.70%\n",
            "Epoch: 77, Loss: 0.0001, Train: 100.00%, Valid: 70.00% Test: 72.70%\n",
            "Epoch: 78, Loss: 0.0001, Train: 100.00%, Valid: 70.00% Test: 72.80%\n",
            "Epoch: 79, Loss: 0.0000, Train: 100.00%, Valid: 69.80% Test: 72.70%\n",
            "Epoch: 80, Loss: 0.0000, Train: 100.00%, Valid: 70.00% Test: 72.70%\n",
            "Epoch: 81, Loss: 0.0000, Train: 100.00%, Valid: 69.80% Test: 72.60%\n",
            "Epoch: 82, Loss: 0.0000, Train: 100.00%, Valid: 70.00% Test: 72.70%\n",
            "Epoch: 83, Loss: 0.0014, Train: 100.00%, Valid: 70.00% Test: 72.70%\n",
            "Epoch: 84, Loss: 0.0000, Train: 100.00%, Valid: 69.80% Test: 72.70%\n",
            "Epoch: 85, Loss: 0.0000, Train: 100.00%, Valid: 69.80% Test: 72.70%\n",
            "Epoch: 86, Loss: 0.0000, Train: 100.00%, Valid: 69.60% Test: 72.80%\n",
            "Epoch: 87, Loss: 0.0000, Train: 100.00%, Valid: 70.00% Test: 72.80%\n",
            "Epoch: 88, Loss: 0.0000, Train: 100.00%, Valid: 70.00% Test: 72.70%\n",
            "Epoch: 89, Loss: 0.0000, Train: 100.00%, Valid: 70.00% Test: 72.70%\n",
            "Epoch: 90, Loss: 0.0000, Train: 100.00%, Valid: 70.00% Test: 72.70%\n",
            "Epoch: 91, Loss: 0.0002, Train: 100.00%, Valid: 70.00% Test: 72.60%\n",
            "Epoch: 92, Loss: 0.0000, Train: 100.00%, Valid: 70.00% Test: 72.60%\n",
            "Epoch: 93, Loss: 0.0009, Train: 100.00%, Valid: 70.00% Test: 72.70%\n",
            "Epoch: 94, Loss: 0.0000, Train: 100.00%, Valid: 70.00% Test: 72.70%\n",
            "Epoch: 95, Loss: 0.0000, Train: 100.00%, Valid: 70.00% Test: 72.80%\n",
            "Epoch: 96, Loss: 0.0000, Train: 100.00%, Valid: 69.60% Test: 72.90%\n",
            "Epoch: 97, Loss: 0.0000, Train: 100.00%, Valid: 69.60% Test: 72.90%\n",
            "Epoch: 98, Loss: 0.0006, Train: 100.00%, Valid: 69.60% Test: 72.80%\n",
            "Epoch: 99, Loss: 0.0000, Train: 100.00%, Valid: 69.20% Test: 72.80%\n",
            "Epoch: 100, Loss: 0.0001, Train: 100.00%, Valid: 69.00% Test: 72.80%\n",
            "Epoch: 101, Loss: 0.0000, Train: 100.00%, Valid: 69.00% Test: 72.80%\n",
            "Epoch: 102, Loss: 0.0001, Train: 100.00%, Valid: 69.00% Test: 72.80%\n",
            "Epoch: 103, Loss: 0.0000, Train: 100.00%, Valid: 69.20% Test: 72.80%\n",
            "Epoch: 104, Loss: 0.0000, Train: 100.00%, Valid: 69.20% Test: 72.80%\n",
            "Epoch: 105, Loss: 0.0000, Train: 100.00%, Valid: 69.00% Test: 72.80%\n",
            "Epoch: 106, Loss: 0.0001, Train: 100.00%, Valid: 69.20% Test: 72.80%\n",
            "Epoch: 107, Loss: 0.0000, Train: 100.00%, Valid: 69.40% Test: 72.80%\n",
            "Epoch: 108, Loss: 0.0003, Train: 100.00%, Valid: 69.40% Test: 72.80%\n",
            "Epoch: 109, Loss: 0.0017, Train: 100.00%, Valid: 69.80% Test: 73.00%\n",
            "Epoch: 110, Loss: 0.0000, Train: 100.00%, Valid: 69.80% Test: 73.00%\n",
            "Epoch: 111, Loss: 0.0001, Train: 100.00%, Valid: 69.60% Test: 73.00%\n",
            "Epoch: 112, Loss: 0.0000, Train: 100.00%, Valid: 69.80% Test: 73.10%\n",
            "Epoch: 113, Loss: 0.0002, Train: 100.00%, Valid: 69.60% Test: 73.30%\n",
            "Epoch: 114, Loss: 0.0001, Train: 100.00%, Valid: 70.00% Test: 73.40%\n",
            "Epoch: 115, Loss: 0.0000, Train: 100.00%, Valid: 70.00% Test: 73.30%\n",
            "Epoch: 116, Loss: 0.0002, Train: 100.00%, Valid: 70.00% Test: 73.20%\n",
            "Epoch: 117, Loss: 0.0000, Train: 100.00%, Valid: 70.00% Test: 73.10%\n",
            "Epoch: 118, Loss: 0.0001, Train: 100.00%, Valid: 70.00% Test: 73.10%\n",
            "Epoch: 119, Loss: 0.0000, Train: 100.00%, Valid: 70.00% Test: 73.10%\n",
            "Epoch: 120, Loss: 0.0000, Train: 100.00%, Valid: 70.00% Test: 73.10%\n",
            "Epoch: 121, Loss: 0.0000, Train: 100.00%, Valid: 70.00% Test: 73.10%\n",
            "Epoch: 122, Loss: 0.0000, Train: 100.00%, Valid: 70.00% Test: 73.10%\n",
            "Epoch: 123, Loss: 0.0004, Train: 100.00%, Valid: 70.00% Test: 73.10%\n",
            "Epoch: 124, Loss: 0.0000, Train: 100.00%, Valid: 70.20% Test: 73.00%\n",
            "Epoch: 125, Loss: 0.0001, Train: 100.00%, Valid: 70.20% Test: 72.90%\n",
            "Epoch: 126, Loss: 0.0000, Train: 100.00%, Valid: 70.20% Test: 72.90%\n",
            "Epoch: 127, Loss: 0.0001, Train: 100.00%, Valid: 70.20% Test: 72.90%\n",
            "Epoch: 128, Loss: 0.0000, Train: 100.00%, Valid: 70.20% Test: 72.90%\n",
            "Epoch: 129, Loss: 0.0000, Train: 100.00%, Valid: 70.20% Test: 72.90%\n",
            "Epoch: 130, Loss: 0.0002, Train: 100.00%, Valid: 70.40% Test: 72.90%\n",
            "Epoch: 131, Loss: 0.0000, Train: 100.00%, Valid: 70.40% Test: 72.80%\n",
            "Epoch: 132, Loss: 0.0000, Train: 100.00%, Valid: 70.40% Test: 72.80%\n",
            "Epoch: 133, Loss: 0.0000, Train: 100.00%, Valid: 70.40% Test: 72.80%\n",
            "Epoch: 134, Loss: 0.0000, Train: 100.00%, Valid: 70.40% Test: 72.80%\n",
            "Epoch: 135, Loss: 0.0000, Train: 100.00%, Valid: 70.40% Test: 72.80%\n",
            "Epoch: 136, Loss: 0.0000, Train: 100.00%, Valid: 70.40% Test: 72.80%\n",
            "Epoch: 137, Loss: 0.0000, Train: 100.00%, Valid: 70.40% Test: 72.80%\n",
            "Epoch: 138, Loss: 0.0000, Train: 100.00%, Valid: 70.40% Test: 72.80%\n",
            "Epoch: 139, Loss: 0.0000, Train: 100.00%, Valid: 70.40% Test: 72.80%\n",
            "Epoch: 140, Loss: 0.0001, Train: 100.00%, Valid: 70.40% Test: 72.80%\n",
            "Epoch: 141, Loss: 0.0001, Train: 100.00%, Valid: 70.40% Test: 72.80%\n",
            "Epoch: 142, Loss: 0.0001, Train: 100.00%, Valid: 70.40% Test: 72.80%\n",
            "Epoch: 143, Loss: 0.0000, Train: 100.00%, Valid: 70.40% Test: 72.80%\n",
            "Epoch: 144, Loss: 0.0000, Train: 100.00%, Valid: 70.40% Test: 72.80%\n",
            "Epoch: 145, Loss: 0.0002, Train: 100.00%, Valid: 70.40% Test: 72.80%\n",
            "Epoch: 146, Loss: 0.0000, Train: 100.00%, Valid: 70.40% Test: 72.80%\n",
            "Epoch: 147, Loss: 0.0002, Train: 100.00%, Valid: 70.40% Test: 72.80%\n",
            "Epoch: 148, Loss: 0.0001, Train: 100.00%, Valid: 70.40% Test: 72.80%\n",
            "Epoch: 149, Loss: 0.0000, Train: 100.00%, Valid: 70.40% Test: 72.90%\n",
            "Epoch: 150, Loss: 0.0000, Train: 100.00%, Valid: 70.40% Test: 72.90%\n",
            "Best model: Train: 100.00%, Valid: 71.80% Test: 72.20%\n"
          ]
        }
      ],
      "source": [
        "graphs_train, graphs_val, graphs_test = \\\n",
        "    GraphDataset.pyg_to_graphs(pyg_dataset, verbose=True, fixed_split=True)\n",
        "\n",
        "graph_train = graphs_train[0]\n",
        "graph_val = graphs_val[0]\n",
        "graph_test = graphs_test[0]\n",
        "\n",
        "model = GNN(graph_train.num_node_features, args['hidden_size'], graph_train.num_node_labels, args).to(args['device'])\n",
        "optimizer = torch.optim.Adam(model.parameters(), lr=args['lr'])\n",
        "graphs = [graph_train, graph_val, graph_test]\n",
        "all_best_model, all_accs = train(graphs, graphs, args, model, optimizer, mode=\"all\")\n",
        "train_acc, val_acc, test_acc = test([graph_train, graph_val, graph_test], all_best_model)\n",
        "print('Best model:',\n",
        "      f'Train: {100 * train_acc:.2f}%, '\n",
        "      f'Valid: {100 * val_acc:.2f}% '\n",
        "      f'Test: {100 * test_acc:.2f}%')"
      ]
    },
    {
      "cell_type": "markdown",
      "metadata": {
        "id": "6RpuETv7Vpx0"
      },
      "source": [
        "## Visualization"
      ]
    },
    {
      "cell_type": "code",
      "execution_count": 29,
      "metadata": {
        "id": "PMK33kY5VmF5",
        "colab": {
          "base_uri": "https://localhost:8080/",
          "height": 458
        },
        "outputId": "eefda952-a8fc-4732-9f6a-5eee11361151"
      },
      "outputs": [
        {
          "output_type": "display_data",
          "data": {
            "text/plain": [
              "<Figure size 648x504 with 1 Axes>"
            ],
            "image/png": "[encoded data removed]"
          },
          "metadata": {
            "needs_background": "light"
          }
        }
      ],
      "source": [
        "import numpy as np\n",
        "from matplotlib import pyplot as plt\n",
        "\n",
        "louvain_results = np.array(louvain_accs)\n",
        "bisection_results = np.array(bisection_accs)\n",
        "greedy_results = np.array(greedy_accs)\n",
        "all_results = np.array(all_accs)\n",
        "\n",
        "x = np.arange(1, 151)\n",
        "\n",
        "plt.figure(figsize=(9, 7))\n",
        "\n",
        "plt.plot(x, louvain_results[:, 1], label=\"Louvain Validation\")\n",
        "plt.plot(x, louvain_results[:, 2], label=\"Louvain Test\")\n",
        "plt.plot(x, bisection_results[:, 1], label=\"Bisection Validation\")\n",
        "plt.plot(x, bisection_results[:, 2], label=\"Bisection Test\")\n",
        "plt.plot(x, greedy_results[:, 1], label=\"Greedy Validation\")\n",
        "plt.plot(x, greedy_results[:, 2], label=\"Greedy Test\")\n",
        "plt.plot(x, all_results[:, 1], label=\"All Validation\")\n",
        "plt.plot(x, all_results[:, 2], label=\"All Test\")\n",
        "plt.title('Model Accuracy')\n",
        "plt.ylabel('Accuracy')\n",
        "plt.xlabel('Epoch')\n",
        "plt.legend()\n",
        "plt.show()"
      ]
    }
  ],
  "metadata": {
    "colab": {
      "collapsed_sections": [],
      "machine_shape": "hm",
      "name": "Copy of CS224W - Colab 5.ipynb",
      "provenance": []
    },
    "gpuClass": "standard",
    "kernelspec": {
      "display_name": "Python 3",
      "language": "python",
      "name": "python3"
    },
    "language_info": {
      "codemirror_mode": {
        "name": "ipython",
        "version": 3
      },
      "file_extension": ".py",
      "mimetype": "text/x-python",
      "name": "python",
      "nbconvert_exporter": "python",
      "pygments_lexer": "ipython3",
      "version": "3.7.3"
    },
    "accelerator": "GPU"
  },
  "nbformat": 4,
  "nbformat_minor": 0
}